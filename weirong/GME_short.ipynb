{
 "cells": [
  {
   "cell_type": "code",
   "execution_count": 1,
   "metadata": {},
   "outputs": [],
   "source": [
    "import plotly.express as px\n",
    "import pandas as pd\n",
    "from pathlib import Path"
   ]
  },
  {
   "cell_type": "code",
   "execution_count": 2,
   "metadata": {},
   "outputs": [
    {
     "data": {
      "text/html": [
       "<div>\n",
       "<style scoped>\n",
       "    .dataframe tbody tr th:only-of-type {\n",
       "        vertical-align: middle;\n",
       "    }\n",
       "\n",
       "    .dataframe tbody tr th {\n",
       "        vertical-align: top;\n",
       "    }\n",
       "\n",
       "    .dataframe thead th {\n",
       "        text-align: right;\n",
       "    }\n",
       "</style>\n",
       "<table border=\"1\" class=\"dataframe\">\n",
       "  <thead>\n",
       "    <tr style=\"text-align: right;\">\n",
       "      <th></th>\n",
       "      <th>date</th>\n",
       "      <th>si_qty</th>\n",
       "      <th>si_value</th>\n",
       "      <th>si_pct_float</th>\n",
       "      <th>si_pct_shrsout</th>\n",
       "    </tr>\n",
       "  </thead>\n",
       "  <tbody>\n",
       "    <tr>\n",
       "      <th>0</th>\n",
       "      <td>2/10/2020</td>\n",
       "      <td>53751068</td>\n",
       "      <td>211779207.9</td>\n",
       "      <td>87.38</td>\n",
       "      <td>81.54</td>\n",
       "    </tr>\n",
       "    <tr>\n",
       "      <th>1</th>\n",
       "      <td>2/11/2020</td>\n",
       "      <td>53743516</td>\n",
       "      <td>216048934.3</td>\n",
       "      <td>87.36</td>\n",
       "      <td>81.53</td>\n",
       "    </tr>\n",
       "    <tr>\n",
       "      <th>2</th>\n",
       "      <td>2/12/2020</td>\n",
       "      <td>54733552</td>\n",
       "      <td>229333582.9</td>\n",
       "      <td>88.97</td>\n",
       "      <td>83.03</td>\n",
       "    </tr>\n",
       "    <tr>\n",
       "      <th>3</th>\n",
       "      <td>2/13/2020</td>\n",
       "      <td>54294472</td>\n",
       "      <td>223150279.9</td>\n",
       "      <td>88.26</td>\n",
       "      <td>82.36</td>\n",
       "    </tr>\n",
       "    <tr>\n",
       "      <th>4</th>\n",
       "      <td>2/14/2020</td>\n",
       "      <td>54092480</td>\n",
       "      <td>217451769.6</td>\n",
       "      <td>87.93</td>\n",
       "      <td>82.05</td>\n",
       "    </tr>\n",
       "  </tbody>\n",
       "</table>\n",
       "</div>"
      ],
      "text/plain": [
       "        date    si_qty     si_value  si_pct_float  si_pct_shrsout\n",
       "0  2/10/2020  53751068  211779207.9         87.38           81.54\n",
       "1  2/11/2020  53743516  216048934.3         87.36           81.53\n",
       "2  2/12/2020  54733552  229333582.9         88.97           83.03\n",
       "3  2/13/2020  54294472  223150279.9         88.26           82.36\n",
       "4  2/14/2020  54092480  217451769.6         87.93           82.05"
      ]
     },
     "execution_count": 2,
     "metadata": {},
     "output_type": "execute_result"
    }
   ],
   "source": [
    "gme_interest= pd.read_csv(\n",
    "    Path(\"Resources/gme_short_int.csv\"),\n",
    "    infer_datetime_format=True,\n",
    "    parse_dates=True,\n",
    ")\n",
    "gme_interest.head()"
   ]
  },
  {
   "cell_type": "code",
   "execution_count": 16,
   "metadata": {},
   "outputs": [
    {
     "data": {
      "application/vnd.plotly.v1+json": {
       "config": {
        "plotlyServerURL": "https://plot.ly"
       },
       "data": [
        {
         "hovertemplate": "Date=%{x}<br>Short Percent of Float=%{y}<extra></extra>",
         "legendgroup": "",
         "line": {
          "color": "#636efa",
          "dash": "solid"
         },
         "mode": "lines",
         "name": "",
         "orientation": "v",
         "showlegend": false,
         "type": "scatter",
         "x": [
          "2/10/2020",
          "2/11/2020",
          "2/12/2020",
          "2/13/2020",
          "2/14/2020",
          "2/17/2020",
          "2/18/2020",
          "2/19/2020",
          "2/20/2020",
          "2/21/2020",
          "2/24/2020",
          "2/25/2020",
          "2/26/2020",
          "2/27/2020",
          "2/28/2020",
          "3/2/2020",
          "3/3/2020",
          "3/4/2020",
          "3/5/2020",
          "3/6/2020",
          "3/9/2020",
          "3/10/2020",
          "3/11/2020",
          "3/12/2020",
          "3/13/2020",
          "3/16/2020",
          "3/17/2020",
          "3/18/2020",
          "3/19/2020",
          "3/20/2020",
          "3/23/2020",
          "3/24/2020",
          "3/25/2020",
          "3/26/2020",
          "3/27/2020",
          "3/30/2020",
          "3/31/2020",
          "4/1/2020",
          "4/2/2020",
          "4/3/2020",
          "4/6/2020",
          "4/7/2020",
          "4/8/2020",
          "4/9/2020",
          "4/10/2020",
          "4/13/2020",
          "4/14/2020",
          "4/15/2020",
          "4/16/2020",
          "4/17/2020",
          "4/20/2020",
          "4/21/2020",
          "4/22/2020",
          "4/23/2020",
          "4/24/2020",
          "4/27/2020",
          "4/28/2020",
          "4/29/2020",
          "4/30/2020",
          "5/1/2020",
          "5/4/2020",
          "5/5/2020",
          "5/6/2020",
          "5/7/2020",
          "5/8/2020",
          "5/11/2020",
          "5/12/2020",
          "5/13/2020",
          "5/14/2020",
          "5/15/2020",
          "5/18/2020",
          "5/19/2020",
          "5/20/2020",
          "5/21/2020",
          "5/22/2020",
          "5/25/2020",
          "5/26/2020",
          "5/27/2020",
          "5/28/2020",
          "5/29/2020",
          "6/1/2020",
          "6/2/2020",
          "6/3/2020",
          "6/4/2020",
          "6/5/2020",
          "6/8/2020",
          "6/9/2020",
          "6/10/2020",
          "6/11/2020",
          "6/12/2020",
          "6/15/2020",
          "6/16/2020",
          "6/17/2020",
          "6/18/2020",
          "6/19/2020",
          "6/22/2020",
          "6/23/2020",
          "6/24/2020",
          "6/25/2020",
          "6/26/2020",
          "6/29/2020",
          "6/30/2020",
          "7/1/2020",
          "7/2/2020",
          "7/3/2020",
          "7/6/2020",
          "7/7/2020",
          "7/8/2020",
          "7/9/2020",
          "7/10/2020",
          "7/13/2020",
          "7/14/2020",
          "7/15/2020",
          "7/16/2020",
          "7/17/2020",
          "7/20/2020",
          "7/21/2020",
          "7/22/2020",
          "7/23/2020",
          "7/24/2020",
          "7/27/2020",
          "7/28/2020",
          "7/29/2020",
          "7/30/2020",
          "7/31/2020",
          "8/3/2020",
          "8/4/2020",
          "8/5/2020",
          "8/6/2020",
          "8/7/2020",
          "8/10/2020",
          "8/11/2020",
          "8/12/2020",
          "8/13/2020",
          "8/14/2020",
          "8/17/2020",
          "8/18/2020",
          "8/19/2020",
          "8/20/2020",
          "8/21/2020",
          "8/24/2020",
          "8/25/2020",
          "8/26/2020",
          "8/27/2020",
          "8/28/2020",
          "8/31/2020",
          "9/1/2020",
          "9/2/2020",
          "9/3/2020",
          "9/4/2020",
          "9/7/2020",
          "9/8/2020",
          "9/9/2020",
          "9/10/2020",
          "9/11/2020",
          "9/14/2020",
          "9/15/2020",
          "9/16/2020",
          "9/17/2020",
          "9/18/2020",
          "9/21/2020",
          "9/22/2020",
          "9/23/2020",
          "9/24/2020",
          "9/25/2020",
          "9/28/2020",
          "9/29/2020",
          "9/30/2020",
          "10/1/2020",
          "10/2/2020",
          "10/5/2020",
          "10/6/2020",
          "10/7/2020",
          "10/8/2020",
          "10/9/2020",
          "10/12/2020",
          "10/13/2020",
          "10/14/2020",
          "10/15/2020",
          "10/16/2020",
          "10/19/2020",
          "10/20/2020",
          "10/21/2020",
          "10/22/2020",
          "10/23/2020",
          "10/26/2020",
          "10/27/2020",
          "10/28/2020",
          "10/29/2020",
          "10/30/2020",
          "11/2/2020",
          "11/3/2020",
          "11/4/2020",
          "11/5/2020",
          "11/6/2020",
          "11/9/2020",
          "11/10/2020",
          "11/11/2020",
          "11/12/2020",
          "11/13/2020",
          "11/16/2020",
          "11/17/2020",
          "11/18/2020",
          "11/19/2020",
          "11/20/2020",
          "11/23/2020",
          "11/24/2020",
          "11/25/2020",
          "11/26/2020",
          "11/27/2020",
          "11/30/2020",
          "12/1/2020",
          "12/2/2020",
          "12/3/2020",
          "12/4/2020",
          "12/7/2020",
          "12/8/2020",
          "12/9/2020",
          "12/10/2020",
          "12/11/2020",
          "12/14/2020",
          "12/15/2020",
          "12/16/2020",
          "12/17/2020",
          "12/18/2020",
          "12/21/2020",
          "12/22/2020",
          "12/23/2020",
          "12/24/2020",
          "12/25/2020",
          "12/28/2020",
          "12/29/2020",
          "12/30/2020",
          "12/31/2020",
          "1/1/2021",
          "1/4/2021",
          "1/5/2021",
          "1/6/2021",
          "1/7/2021",
          "1/8/2021",
          "1/11/2021",
          "1/12/2021",
          "1/13/2021",
          "1/14/2021",
          "1/15/2021",
          "1/18/2021",
          "1/19/2021",
          "1/20/2021",
          "1/21/2021",
          "1/22/2021",
          "1/25/2021",
          "1/26/2021",
          "1/27/2021",
          "1/28/2021",
          "1/29/2021",
          "2/1/2021",
          "2/2/2021",
          "2/3/2021",
          "2/4/2021",
          "2/5/2021",
          "2/8/2021"
         ],
         "xaxis": "x",
         "y": [
          87.38,
          87.36,
          88.97,
          88.26,
          87.93,
          88,
          86.67,
          85.22,
          85.86,
          86.29,
          86.35,
          87.48,
          86.84,
          86.13,
          87.72,
          89.97,
          90.22,
          88.27,
          87.91,
          87.65,
          87.48,
          87.58,
          86.58,
          86.24,
          85.75,
          85.03,
          93.02,
          90.71,
          90,
          88.17,
          82.53,
          78.58,
          80.53,
          79.2,
          78.03,
          79.42,
          76.64,
          75.29,
          73.78,
          77.63,
          80.71,
          80.34,
          80.82,
          80.64,
          80.74,
          80.5,
          81.63,
          82.03,
          81.65,
          81.67,
          79.76,
          82.9,
          82.44,
          82.48,
          82.44,
          82.35,
          82.45,
          82.41,
          82.4,
          82.41,
          81.82,
          81.23,
          82.08,
          81.57,
          80.86,
          80.16,
          77.16,
          76.84,
          76.07,
          77.15,
          74.95,
          76.03,
          75.66,
          73.39,
          74.05,
          74.58,
          75.6,
          76.95,
          76.74,
          75.13,
          75.1,
          73.93,
          75.18,
          75.7,
          77.04,
          77.84,
          78.46,
          80.11,
          83.22,
          81.06,
          79.7,
          78.62,
          73.55,
          75.5,
          71.45,
          71.94,
          70.97,
          68.1,
          66.18,
          62.79,
          63.76,
          61.92,
          62.7,
          61.9,
          62.36,
          64.24,
          66.03,
          65.12,
          62.03,
          60.65,
          61.18,
          59.05,
          60.29,
          57.82,
          57.28,
          61.86,
          62.57,
          66.05,
          67.61,
          66.92,
          66.28,
          69.39,
          65.62,
          66.24,
          64.87,
          63.51,
          63.58,
          66.88,
          65.18,
          70.25,
          71.46,
          72.24,
          72.16,
          70.9,
          72.67,
          74.33,
          74.25,
          75.51,
          76.24,
          78.2,
          79.73,
          80.27,
          80.99,
          81.67,
          82.54,
          81.01,
          82.87,
          82.75,
          83.65,
          82.72,
          82.56,
          84.99,
          84.55,
          85.03,
          84.76,
          85.94,
          88.29,
          88.53,
          88.53,
          91.99,
          91.94,
          92.12,
          89.47,
          90.21,
          89.82,
          91.19,
          92,
          91.55,
          91.82,
          90.25,
          89.92,
          88.66,
          90.01,
          90.73,
          94.42,
          95.32,
          94.89,
          96.5,
          99.2,
          90.37,
          89.06,
          88.06,
          84.99,
          86.04,
          85.94,
          82.06,
          84.71,
          82.58,
          82.66,
          79.29,
          76.35,
          78.41,
          78.81,
          80.95,
          81.29,
          81.64,
          85.03,
          85.06,
          86.39,
          84.84,
          85.18,
          84.99,
          83.76,
          82.55,
          81.42,
          83.53,
          83.76,
          83.74,
          84.05,
          82.94,
          84.51,
          87.15,
          88.78,
          90.23,
          91.82,
          91.88,
          85.3,
          85.48,
          85.66,
          87.93,
          87.36,
          86.49,
          84.29,
          83.89,
          84.29,
          84.59,
          102.03,
          103.09,
          103.25,
          104.31,
          105.18,
          104.5,
          104.92,
          105.97,
          105.94,
          107.53,
          108.56,
          110.82,
          111.22,
          110.73,
          108.87,
          112,
          113.42,
          114.78,
          101.31,
          101.12,
          95.09,
          96.35,
          97.63,
          97.14,
          95.57,
          83.04,
          72.08,
          53.53,
          38.8,
          34.63,
          36.81,
          30.51,
          30.6,
          29.5,
          27.74
         ],
         "yaxis": "y"
        }
       ],
       "layout": {
        "autosize": true,
        "legend": {
         "tracegroupgap": 0
        },
        "template": {
         "data": {
          "bar": [
           {
            "error_x": {
             "color": "#2a3f5f"
            },
            "error_y": {
             "color": "#2a3f5f"
            },
            "marker": {
             "line": {
              "color": "#E5ECF6",
              "width": 0.5
             }
            },
            "type": "bar"
           }
          ],
          "barpolar": [
           {
            "marker": {
             "line": {
              "color": "#E5ECF6",
              "width": 0.5
             }
            },
            "type": "barpolar"
           }
          ],
          "carpet": [
           {
            "aaxis": {
             "endlinecolor": "#2a3f5f",
             "gridcolor": "white",
             "linecolor": "white",
             "minorgridcolor": "white",
             "startlinecolor": "#2a3f5f"
            },
            "baxis": {
             "endlinecolor": "#2a3f5f",
             "gridcolor": "white",
             "linecolor": "white",
             "minorgridcolor": "white",
             "startlinecolor": "#2a3f5f"
            },
            "type": "carpet"
           }
          ],
          "choropleth": [
           {
            "colorbar": {
             "outlinewidth": 0,
             "ticks": ""
            },
            "type": "choropleth"
           }
          ],
          "contour": [
           {
            "colorbar": {
             "outlinewidth": 0,
             "ticks": ""
            },
            "colorscale": [
             [
              0,
              "#0d0887"
             ],
             [
              0.1111111111111111,
              "#46039f"
             ],
             [
              0.2222222222222222,
              "#7201a8"
             ],
             [
              0.3333333333333333,
              "#9c179e"
             ],
             [
              0.4444444444444444,
              "#bd3786"
             ],
             [
              0.5555555555555556,
              "#d8576b"
             ],
             [
              0.6666666666666666,
              "#ed7953"
             ],
             [
              0.7777777777777778,
              "#fb9f3a"
             ],
             [
              0.8888888888888888,
              "#fdca26"
             ],
             [
              1,
              "#f0f921"
             ]
            ],
            "type": "contour"
           }
          ],
          "contourcarpet": [
           {
            "colorbar": {
             "outlinewidth": 0,
             "ticks": ""
            },
            "type": "contourcarpet"
           }
          ],
          "heatmap": [
           {
            "colorbar": {
             "outlinewidth": 0,
             "ticks": ""
            },
            "colorscale": [
             [
              0,
              "#0d0887"
             ],
             [
              0.1111111111111111,
              "#46039f"
             ],
             [
              0.2222222222222222,
              "#7201a8"
             ],
             [
              0.3333333333333333,
              "#9c179e"
             ],
             [
              0.4444444444444444,
              "#bd3786"
             ],
             [
              0.5555555555555556,
              "#d8576b"
             ],
             [
              0.6666666666666666,
              "#ed7953"
             ],
             [
              0.7777777777777778,
              "#fb9f3a"
             ],
             [
              0.8888888888888888,
              "#fdca26"
             ],
             [
              1,
              "#f0f921"
             ]
            ],
            "type": "heatmap"
           }
          ],
          "heatmapgl": [
           {
            "colorbar": {
             "outlinewidth": 0,
             "ticks": ""
            },
            "colorscale": [
             [
              0,
              "#0d0887"
             ],
             [
              0.1111111111111111,
              "#46039f"
             ],
             [
              0.2222222222222222,
              "#7201a8"
             ],
             [
              0.3333333333333333,
              "#9c179e"
             ],
             [
              0.4444444444444444,
              "#bd3786"
             ],
             [
              0.5555555555555556,
              "#d8576b"
             ],
             [
              0.6666666666666666,
              "#ed7953"
             ],
             [
              0.7777777777777778,
              "#fb9f3a"
             ],
             [
              0.8888888888888888,
              "#fdca26"
             ],
             [
              1,
              "#f0f921"
             ]
            ],
            "type": "heatmapgl"
           }
          ],
          "histogram": [
           {
            "marker": {
             "colorbar": {
              "outlinewidth": 0,
              "ticks": ""
             }
            },
            "type": "histogram"
           }
          ],
          "histogram2d": [
           {
            "colorbar": {
             "outlinewidth": 0,
             "ticks": ""
            },
            "colorscale": [
             [
              0,
              "#0d0887"
             ],
             [
              0.1111111111111111,
              "#46039f"
             ],
             [
              0.2222222222222222,
              "#7201a8"
             ],
             [
              0.3333333333333333,
              "#9c179e"
             ],
             [
              0.4444444444444444,
              "#bd3786"
             ],
             [
              0.5555555555555556,
              "#d8576b"
             ],
             [
              0.6666666666666666,
              "#ed7953"
             ],
             [
              0.7777777777777778,
              "#fb9f3a"
             ],
             [
              0.8888888888888888,
              "#fdca26"
             ],
             [
              1,
              "#f0f921"
             ]
            ],
            "type": "histogram2d"
           }
          ],
          "histogram2dcontour": [
           {
            "colorbar": {
             "outlinewidth": 0,
             "ticks": ""
            },
            "colorscale": [
             [
              0,
              "#0d0887"
             ],
             [
              0.1111111111111111,
              "#46039f"
             ],
             [
              0.2222222222222222,
              "#7201a8"
             ],
             [
              0.3333333333333333,
              "#9c179e"
             ],
             [
              0.4444444444444444,
              "#bd3786"
             ],
             [
              0.5555555555555556,
              "#d8576b"
             ],
             [
              0.6666666666666666,
              "#ed7953"
             ],
             [
              0.7777777777777778,
              "#fb9f3a"
             ],
             [
              0.8888888888888888,
              "#fdca26"
             ],
             [
              1,
              "#f0f921"
             ]
            ],
            "type": "histogram2dcontour"
           }
          ],
          "mesh3d": [
           {
            "colorbar": {
             "outlinewidth": 0,
             "ticks": ""
            },
            "type": "mesh3d"
           }
          ],
          "parcoords": [
           {
            "line": {
             "colorbar": {
              "outlinewidth": 0,
              "ticks": ""
             }
            },
            "type": "parcoords"
           }
          ],
          "pie": [
           {
            "automargin": true,
            "type": "pie"
           }
          ],
          "scatter": [
           {
            "marker": {
             "colorbar": {
              "outlinewidth": 0,
              "ticks": ""
             }
            },
            "type": "scatter"
           }
          ],
          "scatter3d": [
           {
            "line": {
             "colorbar": {
              "outlinewidth": 0,
              "ticks": ""
             }
            },
            "marker": {
             "colorbar": {
              "outlinewidth": 0,
              "ticks": ""
             }
            },
            "type": "scatter3d"
           }
          ],
          "scattercarpet": [
           {
            "marker": {
             "colorbar": {
              "outlinewidth": 0,
              "ticks": ""
             }
            },
            "type": "scattercarpet"
           }
          ],
          "scattergeo": [
           {
            "marker": {
             "colorbar": {
              "outlinewidth": 0,
              "ticks": ""
             }
            },
            "type": "scattergeo"
           }
          ],
          "scattergl": [
           {
            "marker": {
             "colorbar": {
              "outlinewidth": 0,
              "ticks": ""
             }
            },
            "type": "scattergl"
           }
          ],
          "scattermapbox": [
           {
            "marker": {
             "colorbar": {
              "outlinewidth": 0,
              "ticks": ""
             }
            },
            "type": "scattermapbox"
           }
          ],
          "scatterpolar": [
           {
            "marker": {
             "colorbar": {
              "outlinewidth": 0,
              "ticks": ""
             }
            },
            "type": "scatterpolar"
           }
          ],
          "scatterpolargl": [
           {
            "marker": {
             "colorbar": {
              "outlinewidth": 0,
              "ticks": ""
             }
            },
            "type": "scatterpolargl"
           }
          ],
          "scatterternary": [
           {
            "marker": {
             "colorbar": {
              "outlinewidth": 0,
              "ticks": ""
             }
            },
            "type": "scatterternary"
           }
          ],
          "surface": [
           {
            "colorbar": {
             "outlinewidth": 0,
             "ticks": ""
            },
            "colorscale": [
             [
              0,
              "#0d0887"
             ],
             [
              0.1111111111111111,
              "#46039f"
             ],
             [
              0.2222222222222222,
              "#7201a8"
             ],
             [
              0.3333333333333333,
              "#9c179e"
             ],
             [
              0.4444444444444444,
              "#bd3786"
             ],
             [
              0.5555555555555556,
              "#d8576b"
             ],
             [
              0.6666666666666666,
              "#ed7953"
             ],
             [
              0.7777777777777778,
              "#fb9f3a"
             ],
             [
              0.8888888888888888,
              "#fdca26"
             ],
             [
              1,
              "#f0f921"
             ]
            ],
            "type": "surface"
           }
          ],
          "table": [
           {
            "cells": {
             "fill": {
              "color": "#EBF0F8"
             },
             "line": {
              "color": "white"
             }
            },
            "header": {
             "fill": {
              "color": "#C8D4E3"
             },
             "line": {
              "color": "white"
             }
            },
            "type": "table"
           }
          ]
         },
         "layout": {
          "annotationdefaults": {
           "arrowcolor": "#2a3f5f",
           "arrowhead": 0,
           "arrowwidth": 1
          },
          "autotypenumbers": "strict",
          "coloraxis": {
           "colorbar": {
            "outlinewidth": 0,
            "ticks": ""
           }
          },
          "colorscale": {
           "diverging": [
            [
             0,
             "#8e0152"
            ],
            [
             0.1,
             "#c51b7d"
            ],
            [
             0.2,
             "#de77ae"
            ],
            [
             0.3,
             "#f1b6da"
            ],
            [
             0.4,
             "#fde0ef"
            ],
            [
             0.5,
             "#f7f7f7"
            ],
            [
             0.6,
             "#e6f5d0"
            ],
            [
             0.7,
             "#b8e186"
            ],
            [
             0.8,
             "#7fbc41"
            ],
            [
             0.9,
             "#4d9221"
            ],
            [
             1,
             "#276419"
            ]
           ],
           "sequential": [
            [
             0,
             "#0d0887"
            ],
            [
             0.1111111111111111,
             "#46039f"
            ],
            [
             0.2222222222222222,
             "#7201a8"
            ],
            [
             0.3333333333333333,
             "#9c179e"
            ],
            [
             0.4444444444444444,
             "#bd3786"
            ],
            [
             0.5555555555555556,
             "#d8576b"
            ],
            [
             0.6666666666666666,
             "#ed7953"
            ],
            [
             0.7777777777777778,
             "#fb9f3a"
            ],
            [
             0.8888888888888888,
             "#fdca26"
            ],
            [
             1,
             "#f0f921"
            ]
           ],
           "sequentialminus": [
            [
             0,
             "#0d0887"
            ],
            [
             0.1111111111111111,
             "#46039f"
            ],
            [
             0.2222222222222222,
             "#7201a8"
            ],
            [
             0.3333333333333333,
             "#9c179e"
            ],
            [
             0.4444444444444444,
             "#bd3786"
            ],
            [
             0.5555555555555556,
             "#d8576b"
            ],
            [
             0.6666666666666666,
             "#ed7953"
            ],
            [
             0.7777777777777778,
             "#fb9f3a"
            ],
            [
             0.8888888888888888,
             "#fdca26"
            ],
            [
             1,
             "#f0f921"
            ]
           ]
          },
          "colorway": [
           "#636efa",
           "#EF553B",
           "#00cc96",
           "#ab63fa",
           "#FFA15A",
           "#19d3f3",
           "#FF6692",
           "#B6E880",
           "#FF97FF",
           "#FECB52"
          ],
          "font": {
           "color": "#2a3f5f"
          },
          "geo": {
           "bgcolor": "white",
           "lakecolor": "white",
           "landcolor": "#E5ECF6",
           "showlakes": true,
           "showland": true,
           "subunitcolor": "white"
          },
          "hoverlabel": {
           "align": "left"
          },
          "hovermode": "closest",
          "mapbox": {
           "style": "light"
          },
          "paper_bgcolor": "white",
          "plot_bgcolor": "#E5ECF6",
          "polar": {
           "angularaxis": {
            "gridcolor": "white",
            "linecolor": "white",
            "ticks": ""
           },
           "bgcolor": "#E5ECF6",
           "radialaxis": {
            "gridcolor": "white",
            "linecolor": "white",
            "ticks": ""
           }
          },
          "scene": {
           "xaxis": {
            "backgroundcolor": "#E5ECF6",
            "gridcolor": "white",
            "gridwidth": 2,
            "linecolor": "white",
            "showbackground": true,
            "ticks": "",
            "zerolinecolor": "white"
           },
           "yaxis": {
            "backgroundcolor": "#E5ECF6",
            "gridcolor": "white",
            "gridwidth": 2,
            "linecolor": "white",
            "showbackground": true,
            "ticks": "",
            "zerolinecolor": "white"
           },
           "zaxis": {
            "backgroundcolor": "#E5ECF6",
            "gridcolor": "white",
            "gridwidth": 2,
            "linecolor": "white",
            "showbackground": true,
            "ticks": "",
            "zerolinecolor": "white"
           }
          },
          "shapedefaults": {
           "line": {
            "color": "#2a3f5f"
           }
          },
          "ternary": {
           "aaxis": {
            "gridcolor": "white",
            "linecolor": "white",
            "ticks": ""
           },
           "baxis": {
            "gridcolor": "white",
            "linecolor": "white",
            "ticks": ""
           },
           "bgcolor": "#E5ECF6",
           "caxis": {
            "gridcolor": "white",
            "linecolor": "white",
            "ticks": ""
           }
          },
          "title": {
           "x": 0.05
          },
          "xaxis": {
           "automargin": true,
           "gridcolor": "white",
           "linecolor": "white",
           "ticks": "",
           "title": {
            "standoff": 15
           },
           "zerolinecolor": "white",
           "zerolinewidth": 2
          },
          "yaxis": {
           "automargin": true,
           "gridcolor": "white",
           "linecolor": "white",
           "ticks": "",
           "title": {
            "standoff": 15
           },
           "zerolinecolor": "white",
           "zerolinewidth": 2
          }
         }
        },
        "title": {
         "text": "GME Short"
        },
        "xaxis": {
         "anchor": "y",
         "autorange": true,
         "domain": [
          0,
          1
         ],
         "range": [
          0,
          260
         ],
         "title": {
          "text": "Date"
         },
         "type": "category"
        },
        "yaxis": {
         "anchor": "x",
         "autorange": true,
         "domain": [
          0,
          1
         ],
         "range": [
          22.904444444444444,
          119.61555555555556
         ],
         "title": {
          "text": "Short Percent of Float"
         },
         "type": "linear"
        }
       }
      },
      "image/png": "[encoded data removed]",
      "text/html": [
       "<div>                            <div id=\"d7bfd25d-891b-4a2a-ac91-2b3d2fbd6fdf\" class=\"plotly-graph-div\" style=\"height:525px; width:100%;\"></div>            <script type=\"text/javascript\">                require([\"plotly\"], function(Plotly) {                    window.PLOTLYENV=window.PLOTLYENV || {};                                    if (document.getElementById(\"d7bfd25d-891b-4a2a-ac91-2b3d2fbd6fdf\")) {                    Plotly.newPlot(                        \"d7bfd25d-891b-4a2a-ac91-2b3d2fbd6fdf\",                        [{\"hovertemplate\": \"Date=%{x}<br>Short Percent of Float=%{y}<extra></extra>\", \"legendgroup\": \"\", \"line\": {\"color\": \"#636efa\", \"dash\": \"solid\"}, \"mode\": \"lines\", \"name\": \"\", \"orientation\": \"v\", \"showlegend\": false, \"type\": \"scatter\", \"x\": [\"2/10/2020\", \"2/11/2020\", \"2/12/2020\", \"2/13/2020\", \"2/14/2020\", \"2/17/2020\", \"2/18/2020\", \"2/19/2020\", \"2/20/2020\", \"2/21/2020\", \"2/24/2020\", \"2/25/2020\", \"2/26/2020\", \"2/27/2020\", \"2/28/2020\", \"3/2/2020\", \"3/3/2020\", \"3/4/2020\", \"3/5/2020\", \"3/6/2020\", \"3/9/2020\", \"3/10/2020\", \"3/11/2020\", \"3/12/2020\", \"3/13/2020\", \"3/16/2020\", \"3/17/2020\", \"3/18/2020\", \"3/19/2020\", \"3/20/2020\", \"3/23/2020\", \"3/24/2020\", \"3/25/2020\", \"3/26/2020\", \"3/27/2020\", \"3/30/2020\", \"3/31/2020\", \"4/1/2020\", \"4/2/2020\", \"4/3/2020\", \"4/6/2020\", \"4/7/2020\", \"4/8/2020\", \"4/9/2020\", \"4/10/2020\", \"4/13/2020\", \"4/14/2020\", \"4/15/2020\", \"4/16/2020\", \"4/17/2020\", \"4/20/2020\", \"4/21/2020\", \"4/22/2020\", \"4/23/2020\", \"4/24/2020\", \"4/27/2020\", \"4/28/2020\", \"4/29/2020\", \"4/30/2020\", \"5/1/2020\", \"5/4/2020\", \"5/5/2020\", \"5/6/2020\", \"5/7/2020\", \"5/8/2020\", \"5/11/2020\", \"5/12/2020\", \"5/13/2020\", \"5/14/2020\", \"5/15/2020\", \"5/18/2020\", \"5/19/2020\", \"5/20/2020\", \"5/21/2020\", \"5/22/2020\", \"5/25/2020\", \"5/26/2020\", \"5/27/2020\", \"5/28/2020\", \"5/29/2020\", \"6/1/2020\", \"6/2/2020\", \"6/3/2020\", \"6/4/2020\", \"6/5/2020\", \"6/8/2020\", \"6/9/2020\", \"6/10/2020\", \"6/11/2020\", \"6/12/2020\", \"6/15/2020\", \"6/16/2020\", \"6/17/2020\", \"6/18/2020\", \"6/19/2020\", \"6/22/2020\", \"6/23/2020\", \"6/24/2020\", \"6/25/2020\", \"6/26/2020\", \"6/29/2020\", \"6/30/2020\", \"7/1/2020\", \"7/2/2020\", \"7/3/2020\", \"7/6/2020\", \"7/7/2020\", \"7/8/2020\", \"7/9/2020\", \"7/10/2020\", \"7/13/2020\", \"7/14/2020\", \"7/15/2020\", \"7/16/2020\", \"7/17/2020\", \"7/20/2020\", \"7/21/2020\", \"7/22/2020\", \"7/23/2020\", \"7/24/2020\", \"7/27/2020\", \"7/28/2020\", \"7/29/2020\", \"7/30/2020\", \"7/31/2020\", \"8/3/2020\", \"8/4/2020\", \"8/5/2020\", \"8/6/2020\", \"8/7/2020\", \"8/10/2020\", \"8/11/2020\", \"8/12/2020\", \"8/13/2020\", \"8/14/2020\", \"8/17/2020\", \"8/18/2020\", \"8/19/2020\", \"8/20/2020\", \"8/21/2020\", \"8/24/2020\", \"8/25/2020\", \"8/26/2020\", \"8/27/2020\", \"8/28/2020\", \"8/31/2020\", \"9/1/2020\", \"9/2/2020\", \"9/3/2020\", \"9/4/2020\", \"9/7/2020\", \"9/8/2020\", \"9/9/2020\", \"9/10/2020\", \"9/11/2020\", \"9/14/2020\", \"9/15/2020\", \"9/16/2020\", \"9/17/2020\", \"9/18/2020\", \"9/21/2020\", \"9/22/2020\", \"9/23/2020\", \"9/24/2020\", \"9/25/2020\", \"9/28/2020\", \"9/29/2020\", \"9/30/2020\", \"10/1/2020\", \"10/2/2020\", \"10/5/2020\", \"10/6/2020\", \"10/7/2020\", \"10/8/2020\", \"10/9/2020\", \"10/12/2020\", \"10/13/2020\", \"10/14/2020\", \"10/15/2020\", \"10/16/2020\", \"10/19/2020\", \"10/20/2020\", \"10/21/2020\", \"10/22/2020\", \"10/23/2020\", \"10/26/2020\", \"10/27/2020\", \"10/28/2020\", \"10/29/2020\", \"10/30/2020\", \"11/2/2020\", \"11/3/2020\", \"11/4/2020\", \"11/5/2020\", \"11/6/2020\", \"11/9/2020\", \"11/10/2020\", \"11/11/2020\", \"11/12/2020\", \"11/13/2020\", \"11/16/2020\", \"11/17/2020\", \"11/18/2020\", \"11/19/2020\", \"11/20/2020\", \"11/23/2020\", \"11/24/2020\", \"11/25/2020\", \"11/26/2020\", \"11/27/2020\", \"11/30/2020\", \"12/1/2020\", \"12/2/2020\", \"12/3/2020\", \"12/4/2020\", \"12/7/2020\", \"12/8/2020\", \"12/9/2020\", \"12/10/2020\", \"12/11/2020\", \"12/14/2020\", \"12/15/2020\", \"12/16/2020\", \"12/17/2020\", \"12/18/2020\", \"12/21/2020\", \"12/22/2020\", \"12/23/2020\", \"12/24/2020\", \"12/25/2020\", \"12/28/2020\", \"12/29/2020\", \"12/30/2020\", \"12/31/2020\", \"1/1/2021\", \"1/4/2021\", \"1/5/2021\", \"1/6/2021\", \"1/7/2021\", \"1/8/2021\", \"1/11/2021\", \"1/12/2021\", \"1/13/2021\", \"1/14/2021\", \"1/15/2021\", \"1/18/2021\", \"1/19/2021\", \"1/20/2021\", \"1/21/2021\", \"1/22/2021\", \"1/25/2021\", \"1/26/2021\", \"1/27/2021\", \"1/28/2021\", \"1/29/2021\", \"2/1/2021\", \"2/2/2021\", \"2/3/2021\", \"2/4/2021\", \"2/5/2021\", \"2/8/2021\"], \"xaxis\": \"x\", \"y\": [87.38, 87.36, 88.97, 88.26, 87.93, 88.0, 86.67, 85.22, 85.86, 86.29, 86.35, 87.48, 86.84, 86.13, 87.72, 89.97, 90.22, 88.27, 87.91, 87.65, 87.48, 87.58, 86.58, 86.24, 85.75, 85.03, 93.02, 90.71, 90.0, 88.17, 82.53, 78.58, 80.53, 79.2, 78.03, 79.42, 76.64, 75.29, 73.78, 77.63, 80.71, 80.34, 80.82, 80.64, 80.74, 80.5, 81.63, 82.03, 81.65, 81.67, 79.76, 82.9, 82.44, 82.48, 82.44, 82.35, 82.45, 82.41, 82.4, 82.41, 81.82, 81.23, 82.08, 81.57, 80.86, 80.16, 77.16, 76.84, 76.07, 77.15, 74.95, 76.03, 75.66, 73.39, 74.05, 74.58, 75.6, 76.95, 76.74, 75.13, 75.1, 73.93, 75.18, 75.7, 77.04, 77.84, 78.46, 80.11, 83.22, 81.06, 79.7, 78.62, 73.55, 75.5, 71.45, 71.94, 70.97, 68.1, 66.18, 62.79, 63.76, 61.92, 62.7, 61.9, 62.36, 64.24, 66.03, 65.12, 62.03, 60.65, 61.18, 59.05, 60.29, 57.82, 57.28, 61.86, 62.57, 66.05, 67.61, 66.92, 66.28, 69.39, 65.62, 66.24, 64.87, 63.51, 63.58, 66.88, 65.18, 70.25, 71.46, 72.24, 72.16, 70.9, 72.67, 74.33, 74.25, 75.51, 76.24, 78.2, 79.73, 80.27, 80.99, 81.67, 82.54, 81.01, 82.87, 82.75, 83.65, 82.72, 82.56, 84.99, 84.55, 85.03, 84.76, 85.94, 88.29, 88.53, 88.53, 91.99, 91.94, 92.12, 89.47, 90.21, 89.82, 91.19, 92.0, 91.55, 91.82, 90.25, 89.92, 88.66, 90.01, 90.73, 94.42, 95.32, 94.89, 96.5, 99.2, 90.37, 89.06, 88.06, 84.99, 86.04, 85.94, 82.06, 84.71, 82.58, 82.66, 79.29, 76.35, 78.41, 78.81, 80.95, 81.29, 81.64, 85.03, 85.06, 86.39, 84.84, 85.18, 84.99, 83.76, 82.55, 81.42, 83.53, 83.76, 83.74, 84.05, 82.94, 84.51, 87.15, 88.78, 90.23, 91.82, 91.88, 85.3, 85.48, 85.66, 87.93, 87.36, 86.49, 84.29, 83.89, 84.29, 84.59, 102.03, 103.09, 103.25, 104.31, 105.18, 104.5, 104.92, 105.97, 105.94, 107.53, 108.56, 110.82, 111.22, 110.73, 108.87, 112.0, 113.42, 114.78, 101.31, 101.12, 95.09, 96.35, 97.63, 97.14, 95.57, 83.04, 72.08, 53.53, 38.8, 34.63, 36.81, 30.51, 30.6, 29.5, 27.74], \"yaxis\": \"y\"}],                        {\"legend\": {\"tracegroupgap\": 0}, \"template\": {\"data\": {\"bar\": [{\"error_x\": {\"color\": \"#2a3f5f\"}, \"error_y\": {\"color\": \"#2a3f5f\"}, \"marker\": {\"line\": {\"color\": \"#E5ECF6\", \"width\": 0.5}}, \"type\": \"bar\"}], \"barpolar\": [{\"marker\": {\"line\": {\"color\": \"#E5ECF6\", \"width\": 0.5}}, \"type\": \"barpolar\"}], \"carpet\": [{\"aaxis\": {\"endlinecolor\": \"#2a3f5f\", \"gridcolor\": \"white\", \"linecolor\": \"white\", \"minorgridcolor\": \"white\", \"startlinecolor\": \"#2a3f5f\"}, \"baxis\": {\"endlinecolor\": \"#2a3f5f\", \"gridcolor\": \"white\", \"linecolor\": \"white\", \"minorgridcolor\": \"white\", \"startlinecolor\": \"#2a3f5f\"}, \"type\": \"carpet\"}], \"choropleth\": [{\"colorbar\": {\"outlinewidth\": 0, \"ticks\": \"\"}, \"type\": \"choropleth\"}], \"contour\": [{\"colorbar\": {\"outlinewidth\": 0, \"ticks\": \"\"}, \"colorscale\": [[0.0, \"#0d0887\"], [0.1111111111111111, \"#46039f\"], [0.2222222222222222, \"#7201a8\"], [0.3333333333333333, \"#9c179e\"], [0.4444444444444444, \"#bd3786\"], [0.5555555555555556, \"#d8576b\"], [0.6666666666666666, \"#ed7953\"], [0.7777777777777778, \"#fb9f3a\"], [0.8888888888888888, \"#fdca26\"], [1.0, \"#f0f921\"]], \"type\": \"contour\"}], \"contourcarpet\": [{\"colorbar\": {\"outlinewidth\": 0, \"ticks\": \"\"}, \"type\": \"contourcarpet\"}], \"heatmap\": [{\"colorbar\": {\"outlinewidth\": 0, \"ticks\": \"\"}, \"colorscale\": [[0.0, \"#0d0887\"], [0.1111111111111111, \"#46039f\"], [0.2222222222222222, \"#7201a8\"], [0.3333333333333333, \"#9c179e\"], [0.4444444444444444, \"#bd3786\"], [0.5555555555555556, \"#d8576b\"], [0.6666666666666666, \"#ed7953\"], [0.7777777777777778, \"#fb9f3a\"], [0.8888888888888888, \"#fdca26\"], [1.0, \"#f0f921\"]], \"type\": \"heatmap\"}], \"heatmapgl\": [{\"colorbar\": {\"outlinewidth\": 0, \"ticks\": \"\"}, \"colorscale\": [[0.0, \"#0d0887\"], [0.1111111111111111, \"#46039f\"], [0.2222222222222222, \"#7201a8\"], [0.3333333333333333, \"#9c179e\"], [0.4444444444444444, \"#bd3786\"], [0.5555555555555556, \"#d8576b\"], [0.6666666666666666, \"#ed7953\"], [0.7777777777777778, \"#fb9f3a\"], [0.8888888888888888, \"#fdca26\"], [1.0, \"#f0f921\"]], \"type\": \"heatmapgl\"}], \"histogram\": [{\"marker\": {\"colorbar\": {\"outlinewidth\": 0, \"ticks\": \"\"}}, \"type\": \"histogram\"}], \"histogram2d\": [{\"colorbar\": {\"outlinewidth\": 0, \"ticks\": \"\"}, \"colorscale\": [[0.0, \"#0d0887\"], [0.1111111111111111, \"#46039f\"], [0.2222222222222222, \"#7201a8\"], [0.3333333333333333, \"#9c179e\"], [0.4444444444444444, \"#bd3786\"], [0.5555555555555556, \"#d8576b\"], [0.6666666666666666, \"#ed7953\"], [0.7777777777777778, \"#fb9f3a\"], [0.8888888888888888, \"#fdca26\"], [1.0, \"#f0f921\"]], \"type\": \"histogram2d\"}], \"histogram2dcontour\": [{\"colorbar\": {\"outlinewidth\": 0, \"ticks\": \"\"}, \"colorscale\": [[0.0, \"#0d0887\"], [0.1111111111111111, \"#46039f\"], [0.2222222222222222, \"#7201a8\"], [0.3333333333333333, \"#9c179e\"], [0.4444444444444444, \"#bd3786\"], [0.5555555555555556, \"#d8576b\"], [0.6666666666666666, \"#ed7953\"], [0.7777777777777778, \"#fb9f3a\"], [0.8888888888888888, \"#fdca26\"], [1.0, \"#f0f921\"]], \"type\": \"histogram2dcontour\"}], \"mesh3d\": [{\"colorbar\": {\"outlinewidth\": 0, \"ticks\": \"\"}, \"type\": \"mesh3d\"}], \"parcoords\": [{\"line\": {\"colorbar\": {\"outlinewidth\": 0, \"ticks\": \"\"}}, \"type\": \"parcoords\"}], \"pie\": [{\"automargin\": true, \"type\": \"pie\"}], \"scatter\": [{\"marker\": {\"colorbar\": {\"outlinewidth\": 0, \"ticks\": \"\"}}, \"type\": \"scatter\"}], \"scatter3d\": [{\"line\": {\"colorbar\": {\"outlinewidth\": 0, \"ticks\": \"\"}}, \"marker\": {\"colorbar\": {\"outlinewidth\": 0, \"ticks\": \"\"}}, \"type\": \"scatter3d\"}], \"scattercarpet\": [{\"marker\": {\"colorbar\": {\"outlinewidth\": 0, \"ticks\": \"\"}}, \"type\": \"scattercarpet\"}], \"scattergeo\": [{\"marker\": {\"colorbar\": {\"outlinewidth\": 0, \"ticks\": \"\"}}, \"type\": \"scattergeo\"}], \"scattergl\": [{\"marker\": {\"colorbar\": {\"outlinewidth\": 0, \"ticks\": \"\"}}, \"type\": \"scattergl\"}], \"scattermapbox\": [{\"marker\": {\"colorbar\": {\"outlinewidth\": 0, \"ticks\": \"\"}}, \"type\": \"scattermapbox\"}], \"scatterpolar\": [{\"marker\": {\"colorbar\": {\"outlinewidth\": 0, \"ticks\": \"\"}}, \"type\": \"scatterpolar\"}], \"scatterpolargl\": [{\"marker\": {\"colorbar\": {\"outlinewidth\": 0, \"ticks\": \"\"}}, \"type\": \"scatterpolargl\"}], \"scatterternary\": [{\"marker\": {\"colorbar\": {\"outlinewidth\": 0, \"ticks\": \"\"}}, \"type\": \"scatterternary\"}], \"surface\": [{\"colorbar\": {\"outlinewidth\": 0, \"ticks\": \"\"}, \"colorscale\": [[0.0, \"#0d0887\"], [0.1111111111111111, \"#46039f\"], [0.2222222222222222, \"#7201a8\"], [0.3333333333333333, \"#9c179e\"], [0.4444444444444444, \"#bd3786\"], [0.5555555555555556, \"#d8576b\"], [0.6666666666666666, \"#ed7953\"], [0.7777777777777778, \"#fb9f3a\"], [0.8888888888888888, \"#fdca26\"], [1.0, \"#f0f921\"]], \"type\": \"surface\"}], \"table\": [{\"cells\": {\"fill\": {\"color\": \"#EBF0F8\"}, \"line\": {\"color\": \"white\"}}, \"header\": {\"fill\": {\"color\": \"#C8D4E3\"}, \"line\": {\"color\": \"white\"}}, \"type\": \"table\"}]}, \"layout\": {\"annotationdefaults\": {\"arrowcolor\": \"#2a3f5f\", \"arrowhead\": 0, \"arrowwidth\": 1}, \"autotypenumbers\": \"strict\", \"coloraxis\": {\"colorbar\": {\"outlinewidth\": 0, \"ticks\": \"\"}}, \"colorscale\": {\"diverging\": [[0, \"#8e0152\"], [0.1, \"#c51b7d\"], [0.2, \"#de77ae\"], [0.3, \"#f1b6da\"], [0.4, \"#fde0ef\"], [0.5, \"#f7f7f7\"], [0.6, \"#e6f5d0\"], [0.7, \"#b8e186\"], [0.8, \"#7fbc41\"], [0.9, \"#4d9221\"], [1, \"#276419\"]], \"sequential\": [[0.0, \"#0d0887\"], [0.1111111111111111, \"#46039f\"], [0.2222222222222222, \"#7201a8\"], [0.3333333333333333, \"#9c179e\"], [0.4444444444444444, \"#bd3786\"], [0.5555555555555556, \"#d8576b\"], [0.6666666666666666, \"#ed7953\"], [0.7777777777777778, \"#fb9f3a\"], [0.8888888888888888, \"#fdca26\"], [1.0, \"#f0f921\"]], \"sequentialminus\": [[0.0, \"#0d0887\"], [0.1111111111111111, \"#46039f\"], [0.2222222222222222, \"#7201a8\"], [0.3333333333333333, \"#9c179e\"], [0.4444444444444444, \"#bd3786\"], [0.5555555555555556, \"#d8576b\"], [0.6666666666666666, \"#ed7953\"], [0.7777777777777778, \"#fb9f3a\"], [0.8888888888888888, \"#fdca26\"], [1.0, \"#f0f921\"]]}, \"colorway\": [\"#636efa\", \"#EF553B\", \"#00cc96\", \"#ab63fa\", \"#FFA15A\", \"#19d3f3\", \"#FF6692\", \"#B6E880\", \"#FF97FF\", \"#FECB52\"], \"font\": {\"color\": \"#2a3f5f\"}, \"geo\": {\"bgcolor\": \"white\", \"lakecolor\": \"white\", \"landcolor\": \"#E5ECF6\", \"showlakes\": true, \"showland\": true, \"subunitcolor\": \"white\"}, \"hoverlabel\": {\"align\": \"left\"}, \"hovermode\": \"closest\", \"mapbox\": {\"style\": \"light\"}, \"paper_bgcolor\": \"white\", \"plot_bgcolor\": \"#E5ECF6\", \"polar\": {\"angularaxis\": {\"gridcolor\": \"white\", \"linecolor\": \"white\", \"ticks\": \"\"}, \"bgcolor\": \"#E5ECF6\", \"radialaxis\": {\"gridcolor\": \"white\", \"linecolor\": \"white\", \"ticks\": \"\"}}, \"scene\": {\"xaxis\": {\"backgroundcolor\": \"#E5ECF6\", \"gridcolor\": \"white\", \"gridwidth\": 2, \"linecolor\": \"white\", \"showbackground\": true, \"ticks\": \"\", \"zerolinecolor\": \"white\"}, \"yaxis\": {\"backgroundcolor\": \"#E5ECF6\", \"gridcolor\": \"white\", \"gridwidth\": 2, \"linecolor\": \"white\", \"showbackground\": true, \"ticks\": \"\", \"zerolinecolor\": \"white\"}, \"zaxis\": {\"backgroundcolor\": \"#E5ECF6\", \"gridcolor\": \"white\", \"gridwidth\": 2, \"linecolor\": \"white\", \"showbackground\": true, \"ticks\": \"\", \"zerolinecolor\": \"white\"}}, \"shapedefaults\": {\"line\": {\"color\": \"#2a3f5f\"}}, \"ternary\": {\"aaxis\": {\"gridcolor\": \"white\", \"linecolor\": \"white\", \"ticks\": \"\"}, \"baxis\": {\"gridcolor\": \"white\", \"linecolor\": \"white\", \"ticks\": \"\"}, \"bgcolor\": \"#E5ECF6\", \"caxis\": {\"gridcolor\": \"white\", \"linecolor\": \"white\", \"ticks\": \"\"}}, \"title\": {\"x\": 0.05}, \"xaxis\": {\"automargin\": true, \"gridcolor\": \"white\", \"linecolor\": \"white\", \"ticks\": \"\", \"title\": {\"standoff\": 15}, \"zerolinecolor\": \"white\", \"zerolinewidth\": 2}, \"yaxis\": {\"automargin\": true, \"gridcolor\": \"white\", \"linecolor\": \"white\", \"ticks\": \"\", \"title\": {\"standoff\": 15}, \"zerolinecolor\": \"white\", \"zerolinewidth\": 2}}}, \"title\": {\"text\": \"GME Short\"}, \"xaxis\": {\"anchor\": \"y\", \"domain\": [0.0, 1.0], \"title\": {\"text\": \"Date\"}}, \"yaxis\": {\"anchor\": \"x\", \"domain\": [0.0, 1.0], \"title\": {\"text\": \"Short Percent of Float\"}}},                        {\"responsive\": true}                    ).then(function(){\n",
       "                            \n",
       "var gd = document.getElementById('d7bfd25d-891b-4a2a-ac91-2b3d2fbd6fdf');\n",
       "var x = new MutationObserver(function (mutations, observer) {{\n",
       "        var display = window.getComputedStyle(gd).display;\n",
       "        if (!display || display === 'none') {{\n",
       "            console.log([gd, 'removed!']);\n",
       "            Plotly.purge(gd);\n",
       "            observer.disconnect();\n",
       "        }}\n",
       "}});\n",
       "\n",
       "// Listen for the removal of the full notebook cells\n",
       "var notebookContainer = gd.closest('#notebook-container');\n",
       "if (notebookContainer) {{\n",
       "    x.observe(notebookContainer, {childList: true});\n",
       "}}\n",
       "\n",
       "// Listen for the clearing of the current output cell\n",
       "var outputEl = gd.closest('.output');\n",
       "if (outputEl) {{\n",
       "    x.observe(outputEl, {childList: true});\n",
       "}}\n",
       "\n",
       "                        })                };                });            </script>        </div>"
      ]
     },
     "metadata": {},
     "output_type": "display_data"
    }
   ],
   "source": [
    "fig=px.line(gme_interest,\n",
    "    x=\"date\",\n",
    "    y=\"si_pct_float\", \n",
    "    labels={\"date\": \"Date\",\n",
    "            \"si_pct_float\": \"Short Percent of Float\"},\n",
    "    title=\"GME Short\"\n",
    ")\n",
    "fig.show()"
   ]
  },
  {
   "cell_type": "code",
   "execution_count": 18,
   "metadata": {},
   "outputs": [
    {
     "data": {
      "application/vnd.plotly.v1+json": {
       "config": {
        "plotlyServerURL": "https://plot.ly"
       },
       "data": [
        {
         "hovertemplate": "Date=%{x}<br>Short Percent of Float=%{y}<extra></extra>",
         "legendgroup": "",
         "line": {
          "color": "#636efa",
          "dash": "solid"
         },
         "mode": "lines",
         "name": "",
         "orientation": "v",
         "showlegend": false,
         "type": "scatter",
         "x": [
          "2/10/2020",
          "2/11/2020",
          "2/12/2020",
          "2/13/2020",
          "2/14/2020",
          "2/17/2020",
          "2/18/2020",
          "2/19/2020",
          "2/20/2020",
          "2/21/2020",
          "2/24/2020",
          "2/25/2020",
          "2/26/2020",
          "2/27/2020",
          "2/28/2020",
          "3/2/2020",
          "3/3/2020",
          "3/4/2020",
          "3/5/2020",
          "3/6/2020",
          "3/9/2020",
          "3/10/2020",
          "3/11/2020",
          "3/12/2020",
          "3/13/2020",
          "3/16/2020",
          "3/17/2020",
          "3/18/2020",
          "3/19/2020",
          "3/20/2020",
          "3/23/2020",
          "3/24/2020",
          "3/25/2020",
          "3/26/2020",
          "3/27/2020",
          "3/30/2020",
          "3/31/2020",
          "4/1/2020",
          "4/2/2020",
          "4/3/2020",
          "4/6/2020",
          "4/7/2020",
          "4/8/2020",
          "4/9/2020",
          "4/10/2020",
          "4/13/2020",
          "4/14/2020",
          "4/15/2020",
          "4/16/2020",
          "4/17/2020",
          "4/20/2020",
          "4/21/2020",
          "4/22/2020",
          "4/23/2020",
          "4/24/2020",
          "4/27/2020",
          "4/28/2020",
          "4/29/2020",
          "4/30/2020",
          "5/1/2020",
          "5/4/2020",
          "5/5/2020",
          "5/6/2020",
          "5/7/2020",
          "5/8/2020",
          "5/11/2020",
          "5/12/2020",
          "5/13/2020",
          "5/14/2020",
          "5/15/2020",
          "5/18/2020",
          "5/19/2020",
          "5/20/2020",
          "5/21/2020",
          "5/22/2020",
          "5/25/2020",
          "5/26/2020",
          "5/27/2020",
          "5/28/2020",
          "5/29/2020",
          "6/1/2020",
          "6/2/2020",
          "6/3/2020",
          "6/4/2020",
          "6/5/2020",
          "6/8/2020",
          "6/9/2020",
          "6/10/2020",
          "6/11/2020",
          "6/12/2020",
          "6/15/2020",
          "6/16/2020",
          "6/17/2020",
          "6/18/2020",
          "6/19/2020",
          "6/22/2020",
          "6/23/2020",
          "6/24/2020",
          "6/25/2020",
          "6/26/2020",
          "6/29/2020",
          "6/30/2020",
          "7/1/2020",
          "7/2/2020",
          "7/3/2020",
          "7/6/2020",
          "7/7/2020",
          "7/8/2020",
          "7/9/2020",
          "7/10/2020",
          "7/13/2020",
          "7/14/2020",
          "7/15/2020",
          "7/16/2020",
          "7/17/2020",
          "7/20/2020",
          "7/21/2020",
          "7/22/2020",
          "7/23/2020",
          "7/24/2020",
          "7/27/2020",
          "7/28/2020",
          "7/29/2020",
          "7/30/2020",
          "7/31/2020",
          "8/3/2020",
          "8/4/2020",
          "8/5/2020",
          "8/6/2020",
          "8/7/2020",
          "8/10/2020",
          "8/11/2020",
          "8/12/2020",
          "8/13/2020",
          "8/14/2020",
          "8/17/2020",
          "8/18/2020",
          "8/19/2020",
          "8/20/2020",
          "8/21/2020",
          "8/24/2020",
          "8/25/2020",
          "8/26/2020",
          "8/27/2020",
          "8/28/2020",
          "8/31/2020",
          "9/1/2020",
          "9/2/2020",
          "9/3/2020",
          "9/4/2020",
          "9/7/2020",
          "9/8/2020",
          "9/9/2020",
          "9/10/2020",
          "9/11/2020",
          "9/14/2020",
          "9/15/2020",
          "9/16/2020",
          "9/17/2020",
          "9/18/2020",
          "9/21/2020",
          "9/22/2020",
          "9/23/2020",
          "9/24/2020",
          "9/25/2020",
          "9/28/2020",
          "9/29/2020",
          "9/30/2020",
          "10/1/2020",
          "10/2/2020",
          "10/5/2020",
          "10/6/2020",
          "10/7/2020",
          "10/8/2020",
          "10/9/2020",
          "10/12/2020",
          "10/13/2020",
          "10/14/2020",
          "10/15/2020",
          "10/16/2020",
          "10/19/2020",
          "10/20/2020",
          "10/21/2020",
          "10/22/2020",
          "10/23/2020",
          "10/26/2020",
          "10/27/2020",
          "10/28/2020",
          "10/29/2020",
          "10/30/2020",
          "11/2/2020",
          "11/3/2020",
          "11/4/2020",
          "11/5/2020",
          "11/6/2020",
          "11/9/2020",
          "11/10/2020",
          "11/11/2020",
          "11/12/2020",
          "11/13/2020",
          "11/16/2020",
          "11/17/2020",
          "11/18/2020",
          "11/19/2020",
          "11/20/2020",
          "11/23/2020",
          "11/24/2020",
          "11/25/2020",
          "11/26/2020",
          "11/27/2020",
          "11/30/2020",
          "12/1/2020",
          "12/2/2020",
          "12/3/2020",
          "12/4/2020",
          "12/7/2020",
          "12/8/2020",
          "12/9/2020",
          "12/10/2020",
          "12/11/2020",
          "12/14/2020",
          "12/15/2020",
          "12/16/2020",
          "12/17/2020",
          "12/18/2020",
          "12/21/2020",
          "12/22/2020",
          "12/23/2020",
          "12/24/2020",
          "12/25/2020",
          "12/28/2020",
          "12/29/2020",
          "12/30/2020",
          "12/31/2020",
          "1/1/2021",
          "1/4/2021",
          "1/5/2021",
          "1/6/2021",
          "1/7/2021",
          "1/8/2021",
          "1/11/2021",
          "1/12/2021",
          "1/13/2021",
          "1/14/2021",
          "1/15/2021",
          "1/18/2021",
          "1/19/2021",
          "1/20/2021",
          "1/21/2021",
          "1/22/2021",
          "1/25/2021",
          "1/26/2021",
          "1/27/2021",
          "1/28/2021",
          "1/29/2021",
          "2/1/2021",
          "2/2/2021",
          "2/3/2021",
          "2/4/2021",
          "2/5/2021",
          "2/8/2021"
         ],
         "xaxis": "x",
         "y": [
          87.38,
          87.36,
          88.97,
          88.26,
          87.93,
          88,
          86.67,
          85.22,
          85.86,
          86.29,
          86.35,
          87.48,
          86.84,
          86.13,
          87.72,
          89.97,
          90.22,
          88.27,
          87.91,
          87.65,
          87.48,
          87.58,
          86.58,
          86.24,
          85.75,
          85.03,
          93.02,
          90.71,
          90,
          88.17,
          82.53,
          78.58,
          80.53,
          79.2,
          78.03,
          79.42,
          76.64,
          75.29,
          73.78,
          77.63,
          80.71,
          80.34,
          80.82,
          80.64,
          80.74,
          80.5,
          81.63,
          82.03,
          81.65,
          81.67,
          79.76,
          82.9,
          82.44,
          82.48,
          82.44,
          82.35,
          82.45,
          82.41,
          82.4,
          82.41,
          81.82,
          81.23,
          82.08,
          81.57,
          80.86,
          80.16,
          77.16,
          76.84,
          76.07,
          77.15,
          74.95,
          76.03,
          75.66,
          73.39,
          74.05,
          74.58,
          75.6,
          76.95,
          76.74,
          75.13,
          75.1,
          73.93,
          75.18,
          75.7,
          77.04,
          77.84,
          78.46,
          80.11,
          83.22,
          81.06,
          79.7,
          78.62,
          73.55,
          75.5,
          71.45,
          71.94,
          70.97,
          68.1,
          66.18,
          62.79,
          63.76,
          61.92,
          62.7,
          61.9,
          62.36,
          64.24,
          66.03,
          65.12,
          62.03,
          60.65,
          61.18,
          59.05,
          60.29,
          57.82,
          57.28,
          61.86,
          62.57,
          66.05,
          67.61,
          66.92,
          66.28,
          69.39,
          65.62,
          66.24,
          64.87,
          63.51,
          63.58,
          66.88,
          65.18,
          70.25,
          71.46,
          72.24,
          72.16,
          70.9,
          72.67,
          74.33,
          74.25,
          75.51,
          76.24,
          78.2,
          79.73,
          80.27,
          80.99,
          81.67,
          82.54,
          81.01,
          82.87,
          82.75,
          83.65,
          82.72,
          82.56,
          84.99,
          84.55,
          85.03,
          84.76,
          85.94,
          88.29,
          88.53,
          88.53,
          91.99,
          91.94,
          92.12,
          89.47,
          90.21,
          89.82,
          91.19,
          92,
          91.55,
          91.82,
          90.25,
          89.92,
          88.66,
          90.01,
          90.73,
          94.42,
          95.32,
          94.89,
          96.5,
          99.2,
          90.37,
          89.06,
          88.06,
          84.99,
          86.04,
          85.94,
          82.06,
          84.71,
          82.58,
          82.66,
          79.29,
          76.35,
          78.41,
          78.81,
          80.95,
          81.29,
          81.64,
          85.03,
          85.06,
          86.39,
          84.84,
          85.18,
          84.99,
          83.76,
          82.55,
          81.42,
          83.53,
          83.76,
          83.74,
          84.05,
          82.94,
          84.51,
          87.15,
          88.78,
          90.23,
          91.82,
          91.88,
          85.3,
          85.48,
          85.66,
          87.93,
          87.36,
          86.49,
          84.29,
          83.89,
          84.29,
          84.59,
          102.03,
          103.09,
          103.25,
          104.31,
          105.18,
          104.5,
          104.92,
          105.97,
          105.94,
          107.53,
          108.56,
          110.82,
          111.22,
          110.73,
          108.87,
          112,
          113.42,
          114.78,
          101.31,
          101.12,
          95.09,
          96.35,
          97.63,
          97.14,
          95.57,
          83.04,
          72.08,
          53.53,
          38.8,
          34.63,
          36.81,
          30.51,
          30.6,
          29.5,
          27.74
         ],
         "yaxis": "y"
        }
       ],
       "layout": {
        "autosize": true,
        "legend": {
         "tracegroupgap": 0
        },
        "template": {
         "data": {
          "bar": [
           {
            "error_x": {
             "color": "#2a3f5f"
            },
            "error_y": {
             "color": "#2a3f5f"
            },
            "marker": {
             "line": {
              "color": "#E5ECF6",
              "width": 0.5
             }
            },
            "type": "bar"
           }
          ],
          "barpolar": [
           {
            "marker": {
             "line": {
              "color": "#E5ECF6",
              "width": 0.5
             }
            },
            "type": "barpolar"
           }
          ],
          "carpet": [
           {
            "aaxis": {
             "endlinecolor": "#2a3f5f",
             "gridcolor": "white",
             "linecolor": "white",
             "minorgridcolor": "white",
             "startlinecolor": "#2a3f5f"
            },
            "baxis": {
             "endlinecolor": "#2a3f5f",
             "gridcolor": "white",
             "linecolor": "white",
             "minorgridcolor": "white",
             "startlinecolor": "#2a3f5f"
            },
            "type": "carpet"
           }
          ],
          "choropleth": [
           {
            "colorbar": {
             "outlinewidth": 0,
             "ticks": ""
            },
            "type": "choropleth"
           }
          ],
          "contour": [
           {
            "colorbar": {
             "outlinewidth": 0,
             "ticks": ""
            },
            "colorscale": [
             [
              0,
              "#0d0887"
             ],
             [
              0.1111111111111111,
              "#46039f"
             ],
             [
              0.2222222222222222,
              "#7201a8"
             ],
             [
              0.3333333333333333,
              "#9c179e"
             ],
             [
              0.4444444444444444,
              "#bd3786"
             ],
             [
              0.5555555555555556,
              "#d8576b"
             ],
             [
              0.6666666666666666,
              "#ed7953"
             ],
             [
              0.7777777777777778,
              "#fb9f3a"
             ],
             [
              0.8888888888888888,
              "#fdca26"
             ],
             [
              1,
              "#f0f921"
             ]
            ],
            "type": "contour"
           }
          ],
          "contourcarpet": [
           {
            "colorbar": {
             "outlinewidth": 0,
             "ticks": ""
            },
            "type": "contourcarpet"
           }
          ],
          "heatmap": [
           {
            "colorbar": {
             "outlinewidth": 0,
             "ticks": ""
            },
            "colorscale": [
             [
              0,
              "#0d0887"
             ],
             [
              0.1111111111111111,
              "#46039f"
             ],
             [
              0.2222222222222222,
              "#7201a8"
             ],
             [
              0.3333333333333333,
              "#9c179e"
             ],
             [
              0.4444444444444444,
              "#bd3786"
             ],
             [
              0.5555555555555556,
              "#d8576b"
             ],
             [
              0.6666666666666666,
              "#ed7953"
             ],
             [
              0.7777777777777778,
              "#fb9f3a"
             ],
             [
              0.8888888888888888,
              "#fdca26"
             ],
             [
              1,
              "#f0f921"
             ]
            ],
            "type": "heatmap"
           }
          ],
          "heatmapgl": [
           {
            "colorbar": {
             "outlinewidth": 0,
             "ticks": ""
            },
            "colorscale": [
             [
              0,
              "#0d0887"
             ],
             [
              0.1111111111111111,
              "#46039f"
             ],
             [
              0.2222222222222222,
              "#7201a8"
             ],
             [
              0.3333333333333333,
              "#9c179e"
             ],
             [
              0.4444444444444444,
              "#bd3786"
             ],
             [
              0.5555555555555556,
              "#d8576b"
             ],
             [
              0.6666666666666666,
              "#ed7953"
             ],
             [
              0.7777777777777778,
              "#fb9f3a"
             ],
             [
              0.8888888888888888,
              "#fdca26"
             ],
             [
              1,
              "#f0f921"
             ]
            ],
            "type": "heatmapgl"
           }
          ],
          "histogram": [
           {
            "marker": {
             "colorbar": {
              "outlinewidth": 0,
              "ticks": ""
             }
            },
            "type": "histogram"
           }
          ],
          "histogram2d": [
           {
            "colorbar": {
             "outlinewidth": 0,
             "ticks": ""
            },
            "colorscale": [
             [
              0,
              "#0d0887"
             ],
             [
              0.1111111111111111,
              "#46039f"
             ],
             [
              0.2222222222222222,
              "#7201a8"
             ],
             [
              0.3333333333333333,
              "#9c179e"
             ],
             [
              0.4444444444444444,
              "#bd3786"
             ],
             [
              0.5555555555555556,
              "#d8576b"
             ],
             [
              0.6666666666666666,
              "#ed7953"
             ],
             [
              0.7777777777777778,
              "#fb9f3a"
             ],
             [
              0.8888888888888888,
              "#fdca26"
             ],
             [
              1,
              "#f0f921"
             ]
            ],
            "type": "histogram2d"
           }
          ],
          "histogram2dcontour": [
           {
            "colorbar": {
             "outlinewidth": 0,
             "ticks": ""
            },
            "colorscale": [
             [
              0,
              "#0d0887"
             ],
             [
              0.1111111111111111,
              "#46039f"
             ],
             [
              0.2222222222222222,
              "#7201a8"
             ],
             [
              0.3333333333333333,
              "#9c179e"
             ],
             [
              0.4444444444444444,
              "#bd3786"
             ],
             [
              0.5555555555555556,
              "#d8576b"
             ],
             [
              0.6666666666666666,
              "#ed7953"
             ],
             [
              0.7777777777777778,
              "#fb9f3a"
             ],
             [
              0.8888888888888888,
              "#fdca26"
             ],
             [
              1,
              "#f0f921"
             ]
            ],
            "type": "histogram2dcontour"
           }
          ],
          "mesh3d": [
           {
            "colorbar": {
             "outlinewidth": 0,
             "ticks": ""
            },
            "type": "mesh3d"
           }
          ],
          "parcoords": [
           {
            "line": {
             "colorbar": {
              "outlinewidth": 0,
              "ticks": ""
             }
            },
            "type": "parcoords"
           }
          ],
          "pie": [
           {
            "automargin": true,
            "type": "pie"
           }
          ],
          "scatter": [
           {
            "marker": {
             "colorbar": {
              "outlinewidth": 0,
              "ticks": ""
             }
            },
            "type": "scatter"
           }
          ],
          "scatter3d": [
           {
            "line": {
             "colorbar": {
              "outlinewidth": 0,
              "ticks": ""
             }
            },
            "marker": {
             "colorbar": {
              "outlinewidth": 0,
              "ticks": ""
             }
            },
            "type": "scatter3d"
           }
          ],
          "scattercarpet": [
           {
            "marker": {
             "colorbar": {
              "outlinewidth": 0,
              "ticks": ""
             }
            },
            "type": "scattercarpet"
           }
          ],
          "scattergeo": [
           {
            "marker": {
             "colorbar": {
              "outlinewidth": 0,
              "ticks": ""
             }
            },
            "type": "scattergeo"
           }
          ],
          "scattergl": [
           {
            "marker": {
             "colorbar": {
              "outlinewidth": 0,
              "ticks": ""
             }
            },
            "type": "scattergl"
           }
          ],
          "scattermapbox": [
           {
            "marker": {
             "colorbar": {
              "outlinewidth": 0,
              "ticks": ""
             }
            },
            "type": "scattermapbox"
           }
          ],
          "scatterpolar": [
           {
            "marker": {
             "colorbar": {
              "outlinewidth": 0,
              "ticks": ""
             }
            },
            "type": "scatterpolar"
           }
          ],
          "scatterpolargl": [
           {
            "marker": {
             "colorbar": {
              "outlinewidth": 0,
              "ticks": ""
             }
            },
            "type": "scatterpolargl"
           }
          ],
          "scatterternary": [
           {
            "marker": {
             "colorbar": {
              "outlinewidth": 0,
              "ticks": ""
             }
            },
            "type": "scatterternary"
           }
          ],
          "surface": [
           {
            "colorbar": {
             "outlinewidth": 0,
             "ticks": ""
            },
            "colorscale": [
             [
              0,
              "#0d0887"
             ],
             [
              0.1111111111111111,
              "#46039f"
             ],
             [
              0.2222222222222222,
              "#7201a8"
             ],
             [
              0.3333333333333333,
              "#9c179e"
             ],
             [
              0.4444444444444444,
              "#bd3786"
             ],
             [
              0.5555555555555556,
              "#d8576b"
             ],
             [
              0.6666666666666666,
              "#ed7953"
             ],
             [
              0.7777777777777778,
              "#fb9f3a"
             ],
             [
              0.8888888888888888,
              "#fdca26"
             ],
             [
              1,
              "#f0f921"
             ]
            ],
            "type": "surface"
           }
          ],
          "table": [
           {
            "cells": {
             "fill": {
              "color": "#EBF0F8"
             },
             "line": {
              "color": "white"
             }
            },
            "header": {
             "fill": {
              "color": "#C8D4E3"
             },
             "line": {
              "color": "white"
             }
            },
            "type": "table"
           }
          ]
         },
         "layout": {
          "annotationdefaults": {
           "arrowcolor": "#2a3f5f",
           "arrowhead": 0,
           "arrowwidth": 1
          },
          "autotypenumbers": "strict",
          "coloraxis": {
           "colorbar": {
            "outlinewidth": 0,
            "ticks": ""
           }
          },
          "colorscale": {
           "diverging": [
            [
             0,
             "#8e0152"
            ],
            [
             0.1,
             "#c51b7d"
            ],
            [
             0.2,
             "#de77ae"
            ],
            [
             0.3,
             "#f1b6da"
            ],
            [
             0.4,
             "#fde0ef"
            ],
            [
             0.5,
             "#f7f7f7"
            ],
            [
             0.6,
             "#e6f5d0"
            ],
            [
             0.7,
             "#b8e186"
            ],
            [
             0.8,
             "#7fbc41"
            ],
            [
             0.9,
             "#4d9221"
            ],
            [
             1,
             "#276419"
            ]
           ],
           "sequential": [
            [
             0,
             "#0d0887"
            ],
            [
             0.1111111111111111,
             "#46039f"
            ],
            [
             0.2222222222222222,
             "#7201a8"
            ],
            [
             0.3333333333333333,
             "#9c179e"
            ],
            [
             0.4444444444444444,
             "#bd3786"
            ],
            [
             0.5555555555555556,
             "#d8576b"
            ],
            [
             0.6666666666666666,
             "#ed7953"
            ],
            [
             0.7777777777777778,
             "#fb9f3a"
            ],
            [
             0.8888888888888888,
             "#fdca26"
            ],
            [
             1,
             "#f0f921"
            ]
           ],
           "sequentialminus": [
            [
             0,
             "#0d0887"
            ],
            [
             0.1111111111111111,
             "#46039f"
            ],
            [
             0.2222222222222222,
             "#7201a8"
            ],
            [
             0.3333333333333333,
             "#9c179e"
            ],
            [
             0.4444444444444444,
             "#bd3786"
            ],
            [
             0.5555555555555556,
             "#d8576b"
            ],
            [
             0.6666666666666666,
             "#ed7953"
            ],
            [
             0.7777777777777778,
             "#fb9f3a"
            ],
            [
             0.8888888888888888,
             "#fdca26"
            ],
            [
             1,
             "#f0f921"
            ]
           ]
          },
          "colorway": [
           "#636efa",
           "#EF553B",
           "#00cc96",
           "#ab63fa",
           "#FFA15A",
           "#19d3f3",
           "#FF6692",
           "#B6E880",
           "#FF97FF",
           "#FECB52"
          ],
          "font": {
           "color": "#2a3f5f"
          },
          "geo": {
           "bgcolor": "white",
           "lakecolor": "white",
           "landcolor": "#E5ECF6",
           "showlakes": true,
           "showland": true,
           "subunitcolor": "white"
          },
          "hoverlabel": {
           "align": "left"
          },
          "hovermode": "closest",
          "mapbox": {
           "style": "light"
          },
          "paper_bgcolor": "white",
          "plot_bgcolor": "#E5ECF6",
          "polar": {
           "angularaxis": {
            "gridcolor": "white",
            "linecolor": "white",
            "ticks": ""
           },
           "bgcolor": "#E5ECF6",
           "radialaxis": {
            "gridcolor": "white",
            "linecolor": "white",
            "ticks": ""
           }
          },
          "scene": {
           "xaxis": {
            "backgroundcolor": "#E5ECF6",
            "gridcolor": "white",
            "gridwidth": 2,
            "linecolor": "white",
            "showbackground": true,
            "ticks": "",
            "zerolinecolor": "white"
           },
           "yaxis": {
            "backgroundcolor": "#E5ECF6",
            "gridcolor": "white",
            "gridwidth": 2,
            "linecolor": "white",
            "showbackground": true,
            "ticks": "",
            "zerolinecolor": "white"
           },
           "zaxis": {
            "backgroundcolor": "#E5ECF6",
            "gridcolor": "white",
            "gridwidth": 2,
            "linecolor": "white",
            "showbackground": true,
            "ticks": "",
            "zerolinecolor": "white"
           }
          },
          "shapedefaults": {
           "line": {
            "color": "#2a3f5f"
           }
          },
          "ternary": {
           "aaxis": {
            "gridcolor": "white",
            "linecolor": "white",
            "ticks": ""
           },
           "baxis": {
            "gridcolor": "white",
            "linecolor": "white",
            "ticks": ""
           },
           "bgcolor": "#E5ECF6",
           "caxis": {
            "gridcolor": "white",
            "linecolor": "white",
            "ticks": ""
           }
          },
          "title": {
           "x": 0.05
          },
          "xaxis": {
           "automargin": true,
           "gridcolor": "white",
           "linecolor": "white",
           "ticks": "",
           "title": {
            "standoff": 15
           },
           "zerolinecolor": "white",
           "zerolinewidth": 2
          },
          "yaxis": {
           "automargin": true,
           "gridcolor": "white",
           "linecolor": "white",
           "ticks": "",
           "title": {
            "standoff": 15
           },
           "zerolinecolor": "white",
           "zerolinewidth": 2
          }
         }
        },
        "title": {
         "text": "GME Short"
        },
        "xaxis": {
         "anchor": "y",
         "autorange": true,
         "domain": [
          0,
          1
         ],
         "range": [
          0,
          260
         ],
         "tickformat": "%y/%m",
         "title": {
          "text": "Date"
         },
         "type": "category"
        },
        "yaxis": {
         "anchor": "x",
         "autorange": true,
         "domain": [
          0,
          1
         ],
         "range": [
          22.904444444444444,
          119.61555555555556
         ],
         "title": {
          "text": "Short Percent of Float"
         },
         "type": "linear"
        }
       }
      },
      "image/png": "[encoded data removed]",
      "text/html": [
       "<div>                            <div id=\"c5219f10-ce7f-4327-a895-7091d76618b2\" class=\"plotly-graph-div\" style=\"height:525px; width:100%;\"></div>            <script type=\"text/javascript\">                require([\"plotly\"], function(Plotly) {                    window.PLOTLYENV=window.PLOTLYENV || {};                                    if (document.getElementById(\"c5219f10-ce7f-4327-a895-7091d76618b2\")) {                    Plotly.newPlot(                        \"c5219f10-ce7f-4327-a895-7091d76618b2\",                        [{\"hovertemplate\": \"Date=%{x}<br>Short Percent of Float=%{y}<extra></extra>\", \"legendgroup\": \"\", \"line\": {\"color\": \"#636efa\", \"dash\": \"solid\"}, \"mode\": \"lines\", \"name\": \"\", \"orientation\": \"v\", \"showlegend\": false, \"type\": \"scatter\", \"x\": [\"2/10/2020\", \"2/11/2020\", \"2/12/2020\", \"2/13/2020\", \"2/14/2020\", \"2/17/2020\", \"2/18/2020\", \"2/19/2020\", \"2/20/2020\", \"2/21/2020\", \"2/24/2020\", \"2/25/2020\", \"2/26/2020\", \"2/27/2020\", \"2/28/2020\", \"3/2/2020\", \"3/3/2020\", \"3/4/2020\", \"3/5/2020\", \"3/6/2020\", \"3/9/2020\", \"3/10/2020\", \"3/11/2020\", \"3/12/2020\", \"3/13/2020\", \"3/16/2020\", \"3/17/2020\", \"3/18/2020\", \"3/19/2020\", \"3/20/2020\", \"3/23/2020\", \"3/24/2020\", \"3/25/2020\", \"3/26/2020\", \"3/27/2020\", \"3/30/2020\", \"3/31/2020\", \"4/1/2020\", \"4/2/2020\", \"4/3/2020\", \"4/6/2020\", \"4/7/2020\", \"4/8/2020\", \"4/9/2020\", \"4/10/2020\", \"4/13/2020\", \"4/14/2020\", \"4/15/2020\", \"4/16/2020\", \"4/17/2020\", \"4/20/2020\", \"4/21/2020\", \"4/22/2020\", \"4/23/2020\", \"4/24/2020\", \"4/27/2020\", \"4/28/2020\", \"4/29/2020\", \"4/30/2020\", \"5/1/2020\", \"5/4/2020\", \"5/5/2020\", \"5/6/2020\", \"5/7/2020\", \"5/8/2020\", \"5/11/2020\", \"5/12/2020\", \"5/13/2020\", \"5/14/2020\", \"5/15/2020\", \"5/18/2020\", \"5/19/2020\", \"5/20/2020\", \"5/21/2020\", \"5/22/2020\", \"5/25/2020\", \"5/26/2020\", \"5/27/2020\", \"5/28/2020\", \"5/29/2020\", \"6/1/2020\", \"6/2/2020\", \"6/3/2020\", \"6/4/2020\", \"6/5/2020\", \"6/8/2020\", \"6/9/2020\", \"6/10/2020\", \"6/11/2020\", \"6/12/2020\", \"6/15/2020\", \"6/16/2020\", \"6/17/2020\", \"6/18/2020\", \"6/19/2020\", \"6/22/2020\", \"6/23/2020\", \"6/24/2020\", \"6/25/2020\", \"6/26/2020\", \"6/29/2020\", \"6/30/2020\", \"7/1/2020\", \"7/2/2020\", \"7/3/2020\", \"7/6/2020\", \"7/7/2020\", \"7/8/2020\", \"7/9/2020\", \"7/10/2020\", \"7/13/2020\", \"7/14/2020\", \"7/15/2020\", \"7/16/2020\", \"7/17/2020\", \"7/20/2020\", \"7/21/2020\", \"7/22/2020\", \"7/23/2020\", \"7/24/2020\", \"7/27/2020\", \"7/28/2020\", \"7/29/2020\", \"7/30/2020\", \"7/31/2020\", \"8/3/2020\", \"8/4/2020\", \"8/5/2020\", \"8/6/2020\", \"8/7/2020\", \"8/10/2020\", \"8/11/2020\", \"8/12/2020\", \"8/13/2020\", \"8/14/2020\", \"8/17/2020\", \"8/18/2020\", \"8/19/2020\", \"8/20/2020\", \"8/21/2020\", \"8/24/2020\", \"8/25/2020\", \"8/26/2020\", \"8/27/2020\", \"8/28/2020\", \"8/31/2020\", \"9/1/2020\", \"9/2/2020\", \"9/3/2020\", \"9/4/2020\", \"9/7/2020\", \"9/8/2020\", \"9/9/2020\", \"9/10/2020\", \"9/11/2020\", \"9/14/2020\", \"9/15/2020\", \"9/16/2020\", \"9/17/2020\", \"9/18/2020\", \"9/21/2020\", \"9/22/2020\", \"9/23/2020\", \"9/24/2020\", \"9/25/2020\", \"9/28/2020\", \"9/29/2020\", \"9/30/2020\", \"10/1/2020\", \"10/2/2020\", \"10/5/2020\", \"10/6/2020\", \"10/7/2020\", \"10/8/2020\", \"10/9/2020\", \"10/12/2020\", \"10/13/2020\", \"10/14/2020\", \"10/15/2020\", \"10/16/2020\", \"10/19/2020\", \"10/20/2020\", \"10/21/2020\", \"10/22/2020\", \"10/23/2020\", \"10/26/2020\", \"10/27/2020\", \"10/28/2020\", \"10/29/2020\", \"10/30/2020\", \"11/2/2020\", \"11/3/2020\", \"11/4/2020\", \"11/5/2020\", \"11/6/2020\", \"11/9/2020\", \"11/10/2020\", \"11/11/2020\", \"11/12/2020\", \"11/13/2020\", \"11/16/2020\", \"11/17/2020\", \"11/18/2020\", \"11/19/2020\", \"11/20/2020\", \"11/23/2020\", \"11/24/2020\", \"11/25/2020\", \"11/26/2020\", \"11/27/2020\", \"11/30/2020\", \"12/1/2020\", \"12/2/2020\", \"12/3/2020\", \"12/4/2020\", \"12/7/2020\", \"12/8/2020\", \"12/9/2020\", \"12/10/2020\", \"12/11/2020\", \"12/14/2020\", \"12/15/2020\", \"12/16/2020\", \"12/17/2020\", \"12/18/2020\", \"12/21/2020\", \"12/22/2020\", \"12/23/2020\", \"12/24/2020\", \"12/25/2020\", \"12/28/2020\", \"12/29/2020\", \"12/30/2020\", \"12/31/2020\", \"1/1/2021\", \"1/4/2021\", \"1/5/2021\", \"1/6/2021\", \"1/7/2021\", \"1/8/2021\", \"1/11/2021\", \"1/12/2021\", \"1/13/2021\", \"1/14/2021\", \"1/15/2021\", \"1/18/2021\", \"1/19/2021\", \"1/20/2021\", \"1/21/2021\", \"1/22/2021\", \"1/25/2021\", \"1/26/2021\", \"1/27/2021\", \"1/28/2021\", \"1/29/2021\", \"2/1/2021\", \"2/2/2021\", \"2/3/2021\", \"2/4/2021\", \"2/5/2021\", \"2/8/2021\"], \"xaxis\": \"x\", \"y\": [87.38, 87.36, 88.97, 88.26, 87.93, 88.0, 86.67, 85.22, 85.86, 86.29, 86.35, 87.48, 86.84, 86.13, 87.72, 89.97, 90.22, 88.27, 87.91, 87.65, 87.48, 87.58, 86.58, 86.24, 85.75, 85.03, 93.02, 90.71, 90.0, 88.17, 82.53, 78.58, 80.53, 79.2, 78.03, 79.42, 76.64, 75.29, 73.78, 77.63, 80.71, 80.34, 80.82, 80.64, 80.74, 80.5, 81.63, 82.03, 81.65, 81.67, 79.76, 82.9, 82.44, 82.48, 82.44, 82.35, 82.45, 82.41, 82.4, 82.41, 81.82, 81.23, 82.08, 81.57, 80.86, 80.16, 77.16, 76.84, 76.07, 77.15, 74.95, 76.03, 75.66, 73.39, 74.05, 74.58, 75.6, 76.95, 76.74, 75.13, 75.1, 73.93, 75.18, 75.7, 77.04, 77.84, 78.46, 80.11, 83.22, 81.06, 79.7, 78.62, 73.55, 75.5, 71.45, 71.94, 70.97, 68.1, 66.18, 62.79, 63.76, 61.92, 62.7, 61.9, 62.36, 64.24, 66.03, 65.12, 62.03, 60.65, 61.18, 59.05, 60.29, 57.82, 57.28, 61.86, 62.57, 66.05, 67.61, 66.92, 66.28, 69.39, 65.62, 66.24, 64.87, 63.51, 63.58, 66.88, 65.18, 70.25, 71.46, 72.24, 72.16, 70.9, 72.67, 74.33, 74.25, 75.51, 76.24, 78.2, 79.73, 80.27, 80.99, 81.67, 82.54, 81.01, 82.87, 82.75, 83.65, 82.72, 82.56, 84.99, 84.55, 85.03, 84.76, 85.94, 88.29, 88.53, 88.53, 91.99, 91.94, 92.12, 89.47, 90.21, 89.82, 91.19, 92.0, 91.55, 91.82, 90.25, 89.92, 88.66, 90.01, 90.73, 94.42, 95.32, 94.89, 96.5, 99.2, 90.37, 89.06, 88.06, 84.99, 86.04, 85.94, 82.06, 84.71, 82.58, 82.66, 79.29, 76.35, 78.41, 78.81, 80.95, 81.29, 81.64, 85.03, 85.06, 86.39, 84.84, 85.18, 84.99, 83.76, 82.55, 81.42, 83.53, 83.76, 83.74, 84.05, 82.94, 84.51, 87.15, 88.78, 90.23, 91.82, 91.88, 85.3, 85.48, 85.66, 87.93, 87.36, 86.49, 84.29, 83.89, 84.29, 84.59, 102.03, 103.09, 103.25, 104.31, 105.18, 104.5, 104.92, 105.97, 105.94, 107.53, 108.56, 110.82, 111.22, 110.73, 108.87, 112.0, 113.42, 114.78, 101.31, 101.12, 95.09, 96.35, 97.63, 97.14, 95.57, 83.04, 72.08, 53.53, 38.8, 34.63, 36.81, 30.51, 30.6, 29.5, 27.74], \"yaxis\": \"y\"}],                        {\"legend\": {\"tracegroupgap\": 0}, \"template\": {\"data\": {\"bar\": [{\"error_x\": {\"color\": \"#2a3f5f\"}, \"error_y\": {\"color\": \"#2a3f5f\"}, \"marker\": {\"line\": {\"color\": \"#E5ECF6\", \"width\": 0.5}}, \"type\": \"bar\"}], \"barpolar\": [{\"marker\": {\"line\": {\"color\": \"#E5ECF6\", \"width\": 0.5}}, \"type\": \"barpolar\"}], \"carpet\": [{\"aaxis\": {\"endlinecolor\": \"#2a3f5f\", \"gridcolor\": \"white\", \"linecolor\": \"white\", \"minorgridcolor\": \"white\", \"startlinecolor\": \"#2a3f5f\"}, \"baxis\": {\"endlinecolor\": \"#2a3f5f\", \"gridcolor\": \"white\", \"linecolor\": \"white\", \"minorgridcolor\": \"white\", \"startlinecolor\": \"#2a3f5f\"}, \"type\": \"carpet\"}], \"choropleth\": [{\"colorbar\": {\"outlinewidth\": 0, \"ticks\": \"\"}, \"type\": \"choropleth\"}], \"contour\": [{\"colorbar\": {\"outlinewidth\": 0, \"ticks\": \"\"}, \"colorscale\": [[0.0, \"#0d0887\"], [0.1111111111111111, \"#46039f\"], [0.2222222222222222, \"#7201a8\"], [0.3333333333333333, \"#9c179e\"], [0.4444444444444444, \"#bd3786\"], [0.5555555555555556, \"#d8576b\"], [0.6666666666666666, \"#ed7953\"], [0.7777777777777778, \"#fb9f3a\"], [0.8888888888888888, \"#fdca26\"], [1.0, \"#f0f921\"]], \"type\": \"contour\"}], \"contourcarpet\": [{\"colorbar\": {\"outlinewidth\": 0, \"ticks\": \"\"}, \"type\": \"contourcarpet\"}], \"heatmap\": [{\"colorbar\": {\"outlinewidth\": 0, \"ticks\": \"\"}, \"colorscale\": [[0.0, \"#0d0887\"], [0.1111111111111111, \"#46039f\"], [0.2222222222222222, \"#7201a8\"], [0.3333333333333333, \"#9c179e\"], [0.4444444444444444, \"#bd3786\"], [0.5555555555555556, \"#d8576b\"], [0.6666666666666666, \"#ed7953\"], [0.7777777777777778, \"#fb9f3a\"], [0.8888888888888888, \"#fdca26\"], [1.0, \"#f0f921\"]], \"type\": \"heatmap\"}], \"heatmapgl\": [{\"colorbar\": {\"outlinewidth\": 0, \"ticks\": \"\"}, \"colorscale\": [[0.0, \"#0d0887\"], [0.1111111111111111, \"#46039f\"], [0.2222222222222222, \"#7201a8\"], [0.3333333333333333, \"#9c179e\"], [0.4444444444444444, \"#bd3786\"], [0.5555555555555556, \"#d8576b\"], [0.6666666666666666, \"#ed7953\"], [0.7777777777777778, \"#fb9f3a\"], [0.8888888888888888, \"#fdca26\"], [1.0, \"#f0f921\"]], \"type\": \"heatmapgl\"}], \"histogram\": [{\"marker\": {\"colorbar\": {\"outlinewidth\": 0, \"ticks\": \"\"}}, \"type\": \"histogram\"}], \"histogram2d\": [{\"colorbar\": {\"outlinewidth\": 0, \"ticks\": \"\"}, \"colorscale\": [[0.0, \"#0d0887\"], [0.1111111111111111, \"#46039f\"], [0.2222222222222222, \"#7201a8\"], [0.3333333333333333, \"#9c179e\"], [0.4444444444444444, \"#bd3786\"], [0.5555555555555556, \"#d8576b\"], [0.6666666666666666, \"#ed7953\"], [0.7777777777777778, \"#fb9f3a\"], [0.8888888888888888, \"#fdca26\"], [1.0, \"#f0f921\"]], \"type\": \"histogram2d\"}], \"histogram2dcontour\": [{\"colorbar\": {\"outlinewidth\": 0, \"ticks\": \"\"}, \"colorscale\": [[0.0, \"#0d0887\"], [0.1111111111111111, \"#46039f\"], [0.2222222222222222, \"#7201a8\"], [0.3333333333333333, \"#9c179e\"], [0.4444444444444444, \"#bd3786\"], [0.5555555555555556, \"#d8576b\"], [0.6666666666666666, \"#ed7953\"], [0.7777777777777778, \"#fb9f3a\"], [0.8888888888888888, \"#fdca26\"], [1.0, \"#f0f921\"]], \"type\": \"histogram2dcontour\"}], \"mesh3d\": [{\"colorbar\": {\"outlinewidth\": 0, \"ticks\": \"\"}, \"type\": \"mesh3d\"}], \"parcoords\": [{\"line\": {\"colorbar\": {\"outlinewidth\": 0, \"ticks\": \"\"}}, \"type\": \"parcoords\"}], \"pie\": [{\"automargin\": true, \"type\": \"pie\"}], \"scatter\": [{\"marker\": {\"colorbar\": {\"outlinewidth\": 0, \"ticks\": \"\"}}, \"type\": \"scatter\"}], \"scatter3d\": [{\"line\": {\"colorbar\": {\"outlinewidth\": 0, \"ticks\": \"\"}}, \"marker\": {\"colorbar\": {\"outlinewidth\": 0, \"ticks\": \"\"}}, \"type\": \"scatter3d\"}], \"scattercarpet\": [{\"marker\": {\"colorbar\": {\"outlinewidth\": 0, \"ticks\": \"\"}}, \"type\": \"scattercarpet\"}], \"scattergeo\": [{\"marker\": {\"colorbar\": {\"outlinewidth\": 0, \"ticks\": \"\"}}, \"type\": \"scattergeo\"}], \"scattergl\": [{\"marker\": {\"colorbar\": {\"outlinewidth\": 0, \"ticks\": \"\"}}, \"type\": \"scattergl\"}], \"scattermapbox\": [{\"marker\": {\"colorbar\": {\"outlinewidth\": 0, \"ticks\": \"\"}}, \"type\": \"scattermapbox\"}], \"scatterpolar\": [{\"marker\": {\"colorbar\": {\"outlinewidth\": 0, \"ticks\": \"\"}}, \"type\": \"scatterpolar\"}], \"scatterpolargl\": [{\"marker\": {\"colorbar\": {\"outlinewidth\": 0, \"ticks\": \"\"}}, \"type\": \"scatterpolargl\"}], \"scatterternary\": [{\"marker\": {\"colorbar\": {\"outlinewidth\": 0, \"ticks\": \"\"}}, \"type\": \"scatterternary\"}], \"surface\": [{\"colorbar\": {\"outlinewidth\": 0, \"ticks\": \"\"}, \"colorscale\": [[0.0, \"#0d0887\"], [0.1111111111111111, \"#46039f\"], [0.2222222222222222, \"#7201a8\"], [0.3333333333333333, \"#9c179e\"], [0.4444444444444444, \"#bd3786\"], [0.5555555555555556, \"#d8576b\"], [0.6666666666666666, \"#ed7953\"], [0.7777777777777778, \"#fb9f3a\"], [0.8888888888888888, \"#fdca26\"], [1.0, \"#f0f921\"]], \"type\": \"surface\"}], \"table\": [{\"cells\": {\"fill\": {\"color\": \"#EBF0F8\"}, \"line\": {\"color\": \"white\"}}, \"header\": {\"fill\": {\"color\": \"#C8D4E3\"}, \"line\": {\"color\": \"white\"}}, \"type\": \"table\"}]}, \"layout\": {\"annotationdefaults\": {\"arrowcolor\": \"#2a3f5f\", \"arrowhead\": 0, \"arrowwidth\": 1}, \"autotypenumbers\": \"strict\", \"coloraxis\": {\"colorbar\": {\"outlinewidth\": 0, \"ticks\": \"\"}}, \"colorscale\": {\"diverging\": [[0, \"#8e0152\"], [0.1, \"#c51b7d\"], [0.2, \"#de77ae\"], [0.3, \"#f1b6da\"], [0.4, \"#fde0ef\"], [0.5, \"#f7f7f7\"], [0.6, \"#e6f5d0\"], [0.7, \"#b8e186\"], [0.8, \"#7fbc41\"], [0.9, \"#4d9221\"], [1, \"#276419\"]], \"sequential\": [[0.0, \"#0d0887\"], [0.1111111111111111, \"#46039f\"], [0.2222222222222222, \"#7201a8\"], [0.3333333333333333, \"#9c179e\"], [0.4444444444444444, \"#bd3786\"], [0.5555555555555556, \"#d8576b\"], [0.6666666666666666, \"#ed7953\"], [0.7777777777777778, \"#fb9f3a\"], [0.8888888888888888, \"#fdca26\"], [1.0, \"#f0f921\"]], \"sequentialminus\": [[0.0, \"#0d0887\"], [0.1111111111111111, \"#46039f\"], [0.2222222222222222, \"#7201a8\"], [0.3333333333333333, \"#9c179e\"], [0.4444444444444444, \"#bd3786\"], [0.5555555555555556, \"#d8576b\"], [0.6666666666666666, \"#ed7953\"], [0.7777777777777778, \"#fb9f3a\"], [0.8888888888888888, \"#fdca26\"], [1.0, \"#f0f921\"]]}, \"colorway\": [\"#636efa\", \"#EF553B\", \"#00cc96\", \"#ab63fa\", \"#FFA15A\", \"#19d3f3\", \"#FF6692\", \"#B6E880\", \"#FF97FF\", \"#FECB52\"], \"font\": {\"color\": \"#2a3f5f\"}, \"geo\": {\"bgcolor\": \"white\", \"lakecolor\": \"white\", \"landcolor\": \"#E5ECF6\", \"showlakes\": true, \"showland\": true, \"subunitcolor\": \"white\"}, \"hoverlabel\": {\"align\": \"left\"}, \"hovermode\": \"closest\", \"mapbox\": {\"style\": \"light\"}, \"paper_bgcolor\": \"white\", \"plot_bgcolor\": \"#E5ECF6\", \"polar\": {\"angularaxis\": {\"gridcolor\": \"white\", \"linecolor\": \"white\", \"ticks\": \"\"}, \"bgcolor\": \"#E5ECF6\", \"radialaxis\": {\"gridcolor\": \"white\", \"linecolor\": \"white\", \"ticks\": \"\"}}, \"scene\": {\"xaxis\": {\"backgroundcolor\": \"#E5ECF6\", \"gridcolor\": \"white\", \"gridwidth\": 2, \"linecolor\": \"white\", \"showbackground\": true, \"ticks\": \"\", \"zerolinecolor\": \"white\"}, \"yaxis\": {\"backgroundcolor\": \"#E5ECF6\", \"gridcolor\": \"white\", \"gridwidth\": 2, \"linecolor\": \"white\", \"showbackground\": true, \"ticks\": \"\", \"zerolinecolor\": \"white\"}, \"zaxis\": {\"backgroundcolor\": \"#E5ECF6\", \"gridcolor\": \"white\", \"gridwidth\": 2, \"linecolor\": \"white\", \"showbackground\": true, \"ticks\": \"\", \"zerolinecolor\": \"white\"}}, \"shapedefaults\": {\"line\": {\"color\": \"#2a3f5f\"}}, \"ternary\": {\"aaxis\": {\"gridcolor\": \"white\", \"linecolor\": \"white\", \"ticks\": \"\"}, \"baxis\": {\"gridcolor\": \"white\", \"linecolor\": \"white\", \"ticks\": \"\"}, \"bgcolor\": \"#E5ECF6\", \"caxis\": {\"gridcolor\": \"white\", \"linecolor\": \"white\", \"ticks\": \"\"}}, \"title\": {\"x\": 0.05}, \"xaxis\": {\"automargin\": true, \"gridcolor\": \"white\", \"linecolor\": \"white\", \"ticks\": \"\", \"title\": {\"standoff\": 15}, \"zerolinecolor\": \"white\", \"zerolinewidth\": 2}, \"yaxis\": {\"automargin\": true, \"gridcolor\": \"white\", \"linecolor\": \"white\", \"ticks\": \"\", \"title\": {\"standoff\": 15}, \"zerolinecolor\": \"white\", \"zerolinewidth\": 2}}}, \"title\": {\"text\": \"GME Short\"}, \"xaxis\": {\"anchor\": \"y\", \"domain\": [0.0, 1.0], \"tickformat\": \"%y/%m\", \"title\": {\"text\": \"Date\"}}, \"yaxis\": {\"anchor\": \"x\", \"domain\": [0.0, 1.0], \"title\": {\"text\": \"Short Percent of Float\"}}},                        {\"responsive\": true}                    ).then(function(){\n",
       "                            \n",
       "var gd = document.getElementById('c5219f10-ce7f-4327-a895-7091d76618b2');\n",
       "var x = new MutationObserver(function (mutations, observer) {{\n",
       "        var display = window.getComputedStyle(gd).display;\n",
       "        if (!display || display === 'none') {{\n",
       "            console.log([gd, 'removed!']);\n",
       "            Plotly.purge(gd);\n",
       "            observer.disconnect();\n",
       "        }}\n",
       "}});\n",
       "\n",
       "// Listen for the removal of the full notebook cells\n",
       "var notebookContainer = gd.closest('#notebook-container');\n",
       "if (notebookContainer) {{\n",
       "    x.observe(notebookContainer, {childList: true});\n",
       "}}\n",
       "\n",
       "// Listen for the clearing of the current output cell\n",
       "var outputEl = gd.closest('.output');\n",
       "if (outputEl) {{\n",
       "    x.observe(outputEl, {childList: true});\n",
       "}}\n",
       "\n",
       "                        })                };                });            </script>        </div>"
      ]
     },
     "metadata": {},
     "output_type": "display_data"
    }
   ],
   "source": [
    "fig.update_xaxes(tickformat=\"%y/%m\")"
   ]
  },
  {
   "cell_type": "code",
   "execution_count": null,
   "metadata": {},
   "outputs": [],
   "source": []
  }
 ],
 "metadata": {
  "kernelspec": {
   "display_name": "Python [conda env:pyvizenv] *",
   "language": "python",
   "name": "conda-env-pyvizenv-py"
  },
  "language_info": {
   "codemirror_mode": {
    "name": "ipython",
    "version": 3
   },
   "file_extension": ".py",
   "mimetype": "text/x-python",
   "name": "python",
   "nbconvert_exporter": "python",
   "pygments_lexer": "ipython3",
   "version": "3.7.9"
  }
 },
 "nbformat": 4,
 "nbformat_minor": 4
}
